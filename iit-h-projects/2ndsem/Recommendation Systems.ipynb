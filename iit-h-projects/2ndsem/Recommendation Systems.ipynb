{
 "cells": [
  {
   "cell_type": "code",
   "execution_count": 2,
   "metadata": {},
   "outputs": [],
   "source": [
    "library(dplyr)"
   ]
  },
  {
   "cell_type": "code",
   "execution_count": 3,
   "metadata": {},
   "outputs": [],
   "source": [
    "## read CSV\n",
    "setwd(\"D:/samples/data_science/iith/002_sem/analytic_databases/assignments/assignment_1/dataset\")\n",
    "\n",
    "user.shows=read.csv(\"user-shows.txt\", sep = ' ', header = F)\n",
    "user.shows.orig = read.csv(\"user-shows.txt\", sep = ' ', header = F)"
   ]
  },
  {
   "cell_type": "code",
   "execution_count": 35,
   "metadata": {},
   "outputs": [
    {
     "data": {
      "text/html": [
       "<ol class=list-inline>\n",
       "\t<li>9985</li>\n",
       "\t<li>563</li>\n",
       "</ol>\n"
      ],
      "text/latex": [
       "\\begin{enumerate*}\n",
       "\\item 9985\n",
       "\\item 563\n",
       "\\end{enumerate*}\n"
      ],
      "text/markdown": [
       "1. 9985\n",
       "2. 563\n",
       "\n",
       "\n"
      ],
      "text/plain": [
       "[1] 9985  563"
      ]
     },
     "metadata": {},
     "output_type": "display_data"
    }
   ],
   "source": [
    "dim(user.shows)"
   ]
  },
  {
   "cell_type": "markdown",
   "metadata": {},
   "source": [
    "**Let us reset forst 100 ratings of user 20 to 0**"
   ]
  },
  {
   "cell_type": "code",
   "execution_count": null,
   "metadata": {},
   "outputs": [],
   "source": [
    "## 20th user's first 100 entries are set to 0\n",
    "user.shows[20, 1:100] = 0"
   ]
  },
  {
   "cell_type": "markdown",
   "metadata": {},
   "source": [
    "**Caliculating magnitude of user and item vactors**"
   ]
  },
  {
   "cell_type": "code",
   "execution_count": 4,
   "metadata": {},
   "outputs": [],
   "source": [
    "user.shows = as.matrix(user.shows)\n",
    "##calculate the magnitude of the user vectors\n",
    "user.user = user.shows %*% t(user.shows)\n",
    "#To check if matrix calculations were correct: "
   ]
  },
  {
   "cell_type": "code",
   "execution_count": 19,
   "metadata": {},
   "outputs": [
    {
     "name": "stdout",
     "output_type": "stream",
     "text": [
      "Total number of ratings by per dataset: 54 \n",
      "Total number of ratings by per matrix: 54"
     ]
    }
   ],
   "source": [
    "cat('Total number of ratings by per dataset:',length(user.shows[6, user.shows[6,] ==1]), \"\\n\")\n",
    "cat('Total number of ratings by per matrix:', user.user[6,6])\n",
    "\n",
    "stopifnot(length(user.shows[6, user.shows[6,] ==1]) == user.user[6,6])"
   ]
  },
  {
   "cell_type": "code",
   "execution_count": 28,
   "metadata": {},
   "outputs": [],
   "source": [
    "user.mag = sqrt(diag(diag(user.user)))\n",
    "user.mag.inv = 1/user.mag #since it is diagnoal matrix, 1/mat-elem will give inverse of matrix\n",
    "user.mag.inv[is.infinite(user.mag.inv)] = 0\n",
    "## calculate magnitude of show vectors\n",
    "show.show = t(user.shows) %*% user.shows\n",
    "#length(user.shows[, 6][user.shows[,6] == 1]) == show.show[6,6] ^2 \n",
    "show.mag = sqrt(diag(diag(show.show)))\n",
    "show.mag.inv = 1/show.mag\n",
    "show.mag.inv[is.infinite(show.mag.inv)] = 0"
   ]
  },
  {
   "cell_type": "markdown",
   "metadata": {},
   "source": [
    "**Calculating similarity matrices**"
   ]
  },
  {
   "cell_type": "code",
   "execution_count": 29,
   "metadata": {},
   "outputs": [],
   "source": [
    "show.similarity = show.mag.inv %*% show.show %*% show.mag.inv\n",
    "user.similarity = user.mag.inv %*% user.user %*% user.mag.inv\n",
    "\n",
    "user.filter.recomms = user.similarity %*% user.shows\n",
    "item.filter.recoms = user.shows %*% show.similarity"
   ]
  },
  {
   "cell_type": "markdown",
   "metadata": {},
   "source": [
    "** Select top 5 recommendations to user 20 **"
   ]
  },
  {
   "cell_type": "code",
   "execution_count": 31,
   "metadata": {},
   "outputs": [
    {
     "data": {
      "text/html": [
       "<ol class=list-inline>\n",
       "\t<li>311.379839859701</li>\n",
       "\t<li>261.380805055361</li>\n",
       "\t<li>261.323331680795</li>\n",
       "\t<li>325.934866015152</li>\n",
       "\t<li>218.982039449793</li>\n",
       "</ol>\n"
      ],
      "text/latex": [
       "\\begin{enumerate*}\n",
       "\\item 311.379839859701\n",
       "\\item 261.380805055361\n",
       "\\item 261.323331680795\n",
       "\\item 325.934866015152\n",
       "\\item 218.982039449793\n",
       "\\end{enumerate*}\n"
      ],
      "text/markdown": [
       "1. 311.379839859701\n",
       "2. 261.380805055361\n",
       "3. 261.323331680795\n",
       "4. 325.934866015152\n",
       "5. 218.982039449793\n",
       "\n",
       "\n"
      ],
      "text/plain": [
       "[1] 311.3798 261.3808 261.3233 325.9349 218.9820"
      ]
     },
     "metadata": {},
     "output_type": "display_data"
    },
    {
     "data": {
      "text/html": [
       "<ol class=list-inline>\n",
       "\t<li>25.0094078371662</li>\n",
       "\t<li>25.7376376097896</li>\n",
       "\t<li>15.4180659837984</li>\n",
       "\t<li>23.375016244578</li>\n",
       "\t<li>16.8710985808706</li>\n",
       "</ol>\n"
      ],
      "text/latex": [
       "\\begin{enumerate*}\n",
       "\\item 25.0094078371662\n",
       "\\item 25.7376376097896\n",
       "\\item 15.4180659837984\n",
       "\\item 23.375016244578\n",
       "\\item 16.8710985808706\n",
       "\\end{enumerate*}\n"
      ],
      "text/markdown": [
       "1. 25.0094078371662\n",
       "2. 25.7376376097896\n",
       "3. 15.4180659837984\n",
       "4. 23.375016244578\n",
       "5. 16.8710985808706\n",
       "\n",
       "\n"
      ],
      "text/plain": [
       "[1] 25.00941 25.73764 15.41807 23.37502 16.87110"
      ]
     },
     "metadata": {},
     "output_type": "display_data"
    },
    {
     "name": "stdout",
     "output_type": "stream",
     "text": [
      "Top 5 shows from user-user collaborative filtering: \n",
      "FOX 28 News at 10pm \n",
      "Family Guy \n",
      "2009 NCAA Basketball Tournament \n",
      "NBC 4 at Eleven \n",
      "Today \n",
      "Top 5 shows from item-item collaborative filtering: \n",
      "FOX 28 News at 10pm \n",
      "SpongeBob SquarePants \n",
      "Family Guy \n",
      "Wow Wow Wubbzy \n",
      "NBC 4 at Eleven \n"
     ]
    }
   ],
   "source": [
    "#select top 5 to most rated items\n",
    "top5_index_user_user = order(-user.filter.recomms[20,1:100])[1:5]\n",
    "top5_index_show_show = order(-item.filter.recoms[20,1:100])[1:5]\n",
    "\n",
    "user.filter.recomms[top5_index_user_user]\n",
    "item.filter.recoms[top5_index_show_show]\n",
    "\n",
    "showNames=read.csv(\"shows.txt\", sep = ' ', header = F)\n",
    "showNames=t(showNames)\n",
    "\n",
    "cat(\"Top 5 shows from user-user collaborative filtering:\", \"\\n\")\n",
    "\n",
    "for(show in showNames[top5_index_user_user])\n",
    "{\n",
    "  cat(show, \"\\n\")\n",
    "}\n",
    "\n",
    "cat(\"Top 5 shows from item-item collaborative filtering:\", \"\\n\")\n",
    "\n",
    "for(show in showNames[top5_index_show_show])\n",
    "{\n",
    "  cat(show, \"\\n\")\n",
    "}"
   ]
  },
  {
   "cell_type": "code",
   "execution_count": 32,
   "metadata": {},
   "outputs": [
    {
     "data": {
      "image/png": "[encoded data removed]",
      "text/plain": [
       "Plot with title \"True Positive Scores In Collaborative Filtering\""
      ]
     },
     "metadata": {},
     "output_type": "display_data"
    }
   ],
   "source": [
    "##plotting true positive rate\n",
    "truePositiveScores = data.frame()\n",
    "user20shows100 = user.shows.orig[20, 1:100]\n",
    "showsWatchedin100 = length(user20shows100[1,user20shows100[1,]==1])\n",
    "#calculating for true positive score for 1 to 50\n",
    "n = 50\n",
    "for(k in 1:n)\n",
    "{\n",
    "  # get indexes of top-k shows from first 100 shows\n",
    "  topK_user_user =  order(-user.filter.recomms[20,1:100])[1:k]\n",
    "  topK_item_item = order(-item.filter.recoms[20,1:100])[1:k]\n",
    "  \n",
    "  reality_user_user = length(user20shows100[1,topK_user_user][user20shows100[1, topK_user_user] == 1])\n",
    "  reality_item_item = length(user20shows100[1, topK_item_item][user20shows100[1, topK_item_item] == 1])\n",
    "  \n",
    "  truePositiveScores = rbind(truePositiveScores, c(k, reality_user_user/showsWatchedin100, reality_item_item/showsWatchedin100))\n",
    "}\n",
    "\n",
    "names(truePositiveScores) = c(\"k\", \"TPS_UserUser\", \"TPS_ItemItem\")\n",
    "\n",
    "#plot(x=truePositiveScores$k, y=truePositiveScores$TPS_UserUser, type = \"l\", col=\"red\", xlab = \"K\", ylab = \"True Positive Score\")\n",
    "#lines(x=truePositiveScores$k, y=truePositiveScores$TPS_ItemItem, col=\"blue\")\n",
    "\n",
    "with(truePositiveScores, \n",
    "     { plot(k[1:19], TPS_UserUser[1:19], type=\"n\", main = \"True Positive Scores In Collaborative Filtering\", xlab = \"K\", ylab = \"True Positve Scores\", ylim=c(0,.5), xlim = c(1,20) ); \n",
    "      lines(x=k[1:19], y=TPS_ItemItem[1:19], col=\"red\", lwd=2);\n",
    "      lines(x=k[1:19], y=TPS_UserUser[1:19], col=\"blue\", lwd=2);\n",
    "      legend(12,.15, c(\"Item Item\", \"User User\"), col=c(\"red\", \"blue\"), lty = c(1,1), lwd=c(2,2) ) } ); "
   ]
  },
  {
   "cell_type": "markdown",
   "metadata": {},
   "source": [
    "### as we can see item-item filtrering doing a better job."
   ]
  }
 ],
 "metadata": {
  "kernelspec": {
   "display_name": "R",
   "language": "R",
   "name": "ir"
  },
  "language_info": {
   "codemirror_mode": "r",
   "file_extension": ".r",
   "mimetype": "text/x-r-source",
   "name": "R",
   "pygments_lexer": "r",
   "version": "3.5.1"
  }
 },
 "nbformat": 4,
 "nbformat_minor": 2
}
