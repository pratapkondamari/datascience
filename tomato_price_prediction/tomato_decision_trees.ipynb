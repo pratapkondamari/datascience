{
 "cells": [
  {
   "cell_type": "markdown",
   "metadata": {},
   "source": [
    "# Predicting tomato price based on the various parameters\n",
    "This project is to see if there is any correlation between temperature, rainfall, previous prices and current price.\n",
    "This looks like a time series setting, I found the cyclic pattern was spurious, hence I decided to go with normal regression/classification approach"
   ]
  },
  {
   "cell_type": "code",
   "execution_count": 1,
   "metadata": {
    "collapsed": true
   },
   "outputs": [],
   "source": [
    "import numpy as np\n",
    "from sklearn.tree import DecisionTreeClassifier\n",
    "import matplotlib.pyplot as plt\n",
    "import pandas as pd\n",
    "%matplotlib inline"
   ]
  },
  {
   "cell_type": "markdown",
   "metadata": {},
   "source": [
    "### Data sources\n",
    "The temp_rainfall_tomato_price_monthly_BLR.csv is a pre-processed data.\n",
    "\n",
    "tomato prices monthly averages http://agmarknet.gov.in/ </br>\n",
    "\n",
    "inflation (CPI) - used for calculating adjusted price https://fred.stlouisfed.org/series/INDCPIALLMINMEI </br>\n",
    "\n",
    "temperature and rainfall data: https://www.worldweatheronline.com/lang/en-in/bangalore-weather-averages/karnataka/in.aspx"
   ]
  },
  {
   "cell_type": "code",
   "execution_count": null,
   "metadata": {
    "collapsed": true
   },
   "outputs": [],
   "source": []
  },
  {
   "cell_type": "code",
   "execution_count": 61,
   "metadata": {
    "collapsed": true
   },
   "outputs": [],
   "source": [
    "df_tomato_temp = pd.read_csv(r'.\\data\\temp_rainfall_tomato_price_monthly_BLR.csv', parse_dates=['Month']) "
   ]
  },
  {
   "cell_type": "code",
   "execution_count": 62,
   "metadata": {
    "collapsed": true
   },
   "outputs": [],
   "source": [
    "df_tomato_temp.set_index('Month', inplace=True)"
   ]
  },
  {
   "cell_type": "code",
   "execution_count": 63,
   "metadata": {
    "collapsed": true
   },
   "outputs": [],
   "source": [
    "df_tomato_temp.drop(['CPI', 'TomatoPrice_BLR'], axis=1, inplace=True)"
   ]
  },
  {
   "cell_type": "code",
   "execution_count": 64,
   "metadata": {},
   "outputs": [
    {
     "data": {
      "text/html": [
       "<div>\n",
       "<style scoped>\n",
       "    .dataframe tbody tr th:only-of-type {\n",
       "        vertical-align: middle;\n",
       "    }\n",
       "\n",
       "    .dataframe tbody tr th {\n",
       "        vertical-align: top;\n",
       "    }\n",
       "\n",
       "    .dataframe thead th {\n",
       "        text-align: right;\n",
       "    }\n",
       "</style>\n",
       "<table border=\"1\" class=\"dataframe\">\n",
       "  <thead>\n",
       "    <tr style=\"text-align: right;\">\n",
       "      <th></th>\n",
       "      <th>AverageTemp</th>\n",
       "      <th>MinTemp</th>\n",
       "      <th>MaxTemp</th>\n",
       "      <th>RainfallMM</th>\n",
       "      <th>RainfallDays</th>\n",
       "      <th>PriceInflAdjusted</th>\n",
       "    </tr>\n",
       "    <tr>\n",
       "      <th>Month</th>\n",
       "      <th></th>\n",
       "      <th></th>\n",
       "      <th></th>\n",
       "      <th></th>\n",
       "      <th></th>\n",
       "      <th></th>\n",
       "    </tr>\n",
       "  </thead>\n",
       "  <tbody>\n",
       "    <tr>\n",
       "      <th>2009-01-01</th>\n",
       "      <td>23</td>\n",
       "      <td>16</td>\n",
       "      <td>28</td>\n",
       "      <td>7.69</td>\n",
       "      <td>4</td>\n",
       "      <td>23.772523</td>\n",
       "    </tr>\n",
       "    <tr>\n",
       "      <th>2009-02-01</th>\n",
       "      <td>27</td>\n",
       "      <td>19</td>\n",
       "      <td>32</td>\n",
       "      <td>0.00</td>\n",
       "      <td>0</td>\n",
       "      <td>23.772523</td>\n",
       "    </tr>\n",
       "    <tr>\n",
       "      <th>2009-03-01</th>\n",
       "      <td>28</td>\n",
       "      <td>21</td>\n",
       "      <td>33</td>\n",
       "      <td>71.41</td>\n",
       "      <td>12</td>\n",
       "      <td>23.772523</td>\n",
       "    </tr>\n",
       "    <tr>\n",
       "      <th>2009-04-01</th>\n",
       "      <td>30</td>\n",
       "      <td>23</td>\n",
       "      <td>36</td>\n",
       "      <td>38.01</td>\n",
       "      <td>13</td>\n",
       "      <td>23.455556</td>\n",
       "    </tr>\n",
       "    <tr>\n",
       "      <th>2009-05-01</th>\n",
       "      <td>28</td>\n",
       "      <td>23</td>\n",
       "      <td>33</td>\n",
       "      <td>151.70</td>\n",
       "      <td>26</td>\n",
       "      <td>19.106181</td>\n",
       "    </tr>\n",
       "  </tbody>\n",
       "</table>\n",
       "</div>"
      ],
      "text/plain": [
       "            AverageTemp  MinTemp  MaxTemp  RainfallMM  RainfallDays  \\\n",
       "Month                                                                 \n",
       "2009-01-01           23       16       28        7.69             4   \n",
       "2009-02-01           27       19       32        0.00             0   \n",
       "2009-03-01           28       21       33       71.41            12   \n",
       "2009-04-01           30       23       36       38.01            13   \n",
       "2009-05-01           28       23       33      151.70            26   \n",
       "\n",
       "            PriceInflAdjusted  \n",
       "Month                          \n",
       "2009-01-01          23.772523  \n",
       "2009-02-01          23.772523  \n",
       "2009-03-01          23.772523  \n",
       "2009-04-01          23.455556  \n",
       "2009-05-01          19.106181  "
      ]
     },
     "execution_count": 64,
     "metadata": {},
     "output_type": "execute_result"
    }
   ],
   "source": [
    "df_tomato_temp.head()"
   ]
  },
  {
   "cell_type": "code",
   "execution_count": 65,
   "metadata": {},
   "outputs": [
    {
     "data": {
      "text/plain": [
       "<matplotlib.axes._subplots.AxesSubplot at 0x133bd4e0>"
      ]
     },
     "execution_count": 65,
     "metadata": {},
     "output_type": "execute_result"
    },
    {
     "data": {
      "image/png": "[encoded data removed]",
      "text/plain": [
       "<Figure size 432x288 with 1 Axes>"
      ]
     },
     "metadata": {},
     "output_type": "display_data"
    }
   ],
   "source": [
    "df_tomato_temp.PriceInflAdjusted.plot()"
   ]
  },
  {
   "cell_type": "code",
   "execution_count": 66,
   "metadata": {},
   "outputs": [
    {
     "data": {
      "text/html": [
       "<div>\n",
       "<style scoped>\n",
       "    .dataframe tbody tr th:only-of-type {\n",
       "        vertical-align: middle;\n",
       "    }\n",
       "\n",
       "    .dataframe tbody tr th {\n",
       "        vertical-align: top;\n",
       "    }\n",
       "\n",
       "    .dataframe thead th {\n",
       "        text-align: right;\n",
       "    }\n",
       "</style>\n",
       "<table border=\"1\" class=\"dataframe\">\n",
       "  <thead>\n",
       "    <tr style=\"text-align: right;\">\n",
       "      <th></th>\n",
       "      <th>AverageTemp</th>\n",
       "      <th>MinTemp</th>\n",
       "      <th>MaxTemp</th>\n",
       "      <th>RainfallMM</th>\n",
       "      <th>RainfallDays</th>\n",
       "      <th>PriceInflAdjusted</th>\n",
       "    </tr>\n",
       "    <tr>\n",
       "      <th>Month</th>\n",
       "      <th></th>\n",
       "      <th></th>\n",
       "      <th></th>\n",
       "      <th></th>\n",
       "      <th></th>\n",
       "      <th></th>\n",
       "    </tr>\n",
       "  </thead>\n",
       "  <tbody>\n",
       "    <tr>\n",
       "      <th>2009-01-01</th>\n",
       "      <td>28.0</td>\n",
       "      <td>21.0</td>\n",
       "      <td>33.0</td>\n",
       "      <td>71.41</td>\n",
       "      <td>12.0</td>\n",
       "      <td>23.772523</td>\n",
       "    </tr>\n",
       "    <tr>\n",
       "      <th>2009-02-01</th>\n",
       "      <td>30.0</td>\n",
       "      <td>23.0</td>\n",
       "      <td>36.0</td>\n",
       "      <td>38.01</td>\n",
       "      <td>13.0</td>\n",
       "      <td>23.455556</td>\n",
       "    </tr>\n",
       "    <tr>\n",
       "      <th>2009-03-01</th>\n",
       "      <td>28.0</td>\n",
       "      <td>23.0</td>\n",
       "      <td>33.0</td>\n",
       "      <td>151.70</td>\n",
       "      <td>26.0</td>\n",
       "      <td>19.106181</td>\n",
       "    </tr>\n",
       "    <tr>\n",
       "      <th>2009-04-01</th>\n",
       "      <td>25.0</td>\n",
       "      <td>20.0</td>\n",
       "      <td>29.0</td>\n",
       "      <td>282.71</td>\n",
       "      <td>29.0</td>\n",
       "      <td>14.636727</td>\n",
       "    </tr>\n",
       "    <tr>\n",
       "      <th>2009-05-01</th>\n",
       "      <td>24.0</td>\n",
       "      <td>21.0</td>\n",
       "      <td>27.0</td>\n",
       "      <td>75.91</td>\n",
       "      <td>26.0</td>\n",
       "      <td>15.392708</td>\n",
       "    </tr>\n",
       "  </tbody>\n",
       "</table>\n",
       "</div>"
      ],
      "text/plain": [
       "            AverageTemp  MinTemp  MaxTemp  RainfallMM  RainfallDays  \\\n",
       "Month                                                                 \n",
       "2009-01-01         28.0     21.0     33.0       71.41          12.0   \n",
       "2009-02-01         30.0     23.0     36.0       38.01          13.0   \n",
       "2009-03-01         28.0     23.0     33.0      151.70          26.0   \n",
       "2009-04-01         25.0     20.0     29.0      282.71          29.0   \n",
       "2009-05-01         24.0     21.0     27.0       75.91          26.0   \n",
       "\n",
       "            PriceInflAdjusted  \n",
       "Month                          \n",
       "2009-01-01          23.772523  \n",
       "2009-02-01          23.455556  \n",
       "2009-03-01          19.106181  \n",
       "2009-04-01          14.636727  \n",
       "2009-05-01          15.392708  "
      ]
     },
     "execution_count": 66,
     "metadata": {},
     "output_type": "execute_result"
    }
   ],
   "source": [
    "df_tomato_temp.shift(-2).head()"
   ]
  },
  {
   "cell_type": "code",
   "execution_count": 67,
   "metadata": {},
   "outputs": [
    {
     "data": {
      "text/html": [
       "<div>\n",
       "<style scoped>\n",
       "    .dataframe tbody tr th:only-of-type {\n",
       "        vertical-align: middle;\n",
       "    }\n",
       "\n",
       "    .dataframe tbody tr th {\n",
       "        vertical-align: top;\n",
       "    }\n",
       "\n",
       "    .dataframe thead th {\n",
       "        text-align: right;\n",
       "    }\n",
       "</style>\n",
       "<table border=\"1\" class=\"dataframe\">\n",
       "  <thead>\n",
       "    <tr style=\"text-align: right;\">\n",
       "      <th></th>\n",
       "      <th>AverageTemp</th>\n",
       "      <th>MinTemp</th>\n",
       "      <th>MaxTemp</th>\n",
       "      <th>RainfallMM</th>\n",
       "      <th>RainfallDays</th>\n",
       "      <th>PriceInflAdjusted</th>\n",
       "    </tr>\n",
       "    <tr>\n",
       "      <th>Month</th>\n",
       "      <th></th>\n",
       "      <th></th>\n",
       "      <th></th>\n",
       "      <th></th>\n",
       "      <th></th>\n",
       "      <th></th>\n",
       "    </tr>\n",
       "  </thead>\n",
       "  <tbody>\n",
       "    <tr>\n",
       "      <th>2009-01-01</th>\n",
       "      <td>23</td>\n",
       "      <td>16</td>\n",
       "      <td>28</td>\n",
       "      <td>7.69</td>\n",
       "      <td>4</td>\n",
       "      <td>23.772523</td>\n",
       "    </tr>\n",
       "    <tr>\n",
       "      <th>2009-02-01</th>\n",
       "      <td>27</td>\n",
       "      <td>19</td>\n",
       "      <td>32</td>\n",
       "      <td>0.00</td>\n",
       "      <td>0</td>\n",
       "      <td>23.772523</td>\n",
       "    </tr>\n",
       "    <tr>\n",
       "      <th>2009-03-01</th>\n",
       "      <td>28</td>\n",
       "      <td>21</td>\n",
       "      <td>33</td>\n",
       "      <td>71.41</td>\n",
       "      <td>12</td>\n",
       "      <td>23.772523</td>\n",
       "    </tr>\n",
       "    <tr>\n",
       "      <th>2009-04-01</th>\n",
       "      <td>30</td>\n",
       "      <td>23</td>\n",
       "      <td>36</td>\n",
       "      <td>38.01</td>\n",
       "      <td>13</td>\n",
       "      <td>23.455556</td>\n",
       "    </tr>\n",
       "    <tr>\n",
       "      <th>2009-05-01</th>\n",
       "      <td>28</td>\n",
       "      <td>23</td>\n",
       "      <td>33</td>\n",
       "      <td>151.70</td>\n",
       "      <td>26</td>\n",
       "      <td>19.106181</td>\n",
       "    </tr>\n",
       "  </tbody>\n",
       "</table>\n",
       "</div>"
      ],
      "text/plain": [
       "            AverageTemp  MinTemp  MaxTemp  RainfallMM  RainfallDays  \\\n",
       "Month                                                                 \n",
       "2009-01-01           23       16       28        7.69             4   \n",
       "2009-02-01           27       19       32        0.00             0   \n",
       "2009-03-01           28       21       33       71.41            12   \n",
       "2009-04-01           30       23       36       38.01            13   \n",
       "2009-05-01           28       23       33      151.70            26   \n",
       "\n",
       "            PriceInflAdjusted  \n",
       "Month                          \n",
       "2009-01-01          23.772523  \n",
       "2009-02-01          23.772523  \n",
       "2009-03-01          23.772523  \n",
       "2009-04-01          23.455556  \n",
       "2009-05-01          19.106181  "
      ]
     },
     "execution_count": 67,
     "metadata": {},
     "output_type": "execute_result"
    }
   ],
   "source": [
    "df_tomato_temp.head()"
   ]
  },
  {
   "cell_type": "code",
   "execution_count": 68,
   "metadata": {
    "collapsed": true
   },
   "outputs": [],
   "source": [
    "df_tomato_temp_joined = df_tomato_temp.join(df_tomato_temp.shift(-2), how='inner', rsuffix = '-2')"
   ]
  },
  {
   "cell_type": "code",
   "execution_count": 69,
   "metadata": {
    "collapsed": true
   },
   "outputs": [],
   "source": [
    "df_tomato_temp_joined = df_tomato_temp_joined.join(df_tomato_temp.shift(-3), how='inner', rsuffix = '-3')"
   ]
  },
  {
   "cell_type": "code",
   "execution_count": 72,
   "metadata": {},
   "outputs": [
    {
     "data": {
      "text/plain": [
       "Index(['AverageTemp', 'MinTemp', 'MaxTemp', 'RainfallMM', 'RainfallDays',\n",
       "       'PriceInflAdjusted', 'AverageTemp-2', 'MinTemp-2', 'MaxTemp-2',\n",
       "       'RainfallMM-2', 'RainfallDays-2', 'PriceInflAdjusted-2',\n",
       "       'AverageTemp-3', 'MinTemp-3', 'MaxTemp-3', 'RainfallMM-3',\n",
       "       'RainfallDays-3', 'PriceInflAdjusted-3'],\n",
       "      dtype='object')"
      ]
     },
     "execution_count": 72,
     "metadata": {},
     "output_type": "execute_result"
    }
   ],
   "source": [
    "df_tomato_temp_joined.columns"
   ]
  },
  {
   "cell_type": "code",
   "execution_count": 73,
   "metadata": {},
   "outputs": [
    {
     "data": {
      "text/plain": [
       "PriceInflAdjusted-2    0.008480\n",
       "RainfallDays-3         0.014923\n",
       "MinTemp-3              0.021126\n",
       "AverageTemp-3          0.038412\n",
       "RainfallDays-2         0.048277\n",
       "MinTemp-2              0.063752\n",
       "RainfallMM-3           0.065563\n",
       "MaxTemp-3              0.065885\n",
       "AverageTemp            0.079324\n",
       "MinTemp                0.107852\n",
       "MaxTemp                0.126817\n",
       "PriceInflAdjusted-3    0.130954\n",
       "AverageTemp-2          0.169665\n",
       "MaxTemp-2              0.177532\n",
       "RainfallMM             0.208382\n",
       "RainfallMM-2           0.236135\n",
       "RainfallDays           0.246767\n",
       "PriceInflAdjusted      1.000000\n",
       "Name: PriceInflAdjusted, dtype: float64"
      ]
     },
     "execution_count": 73,
     "metadata": {},
     "output_type": "execute_result"
    }
   ],
   "source": [
    "df_tomato_temp_joined.corr()['PriceInflAdjusted'].abs().sort_values()"
   ]
  },
  {
   "cell_type": "code",
   "execution_count": 86,
   "metadata": {
    "collapsed": true
   },
   "outputs": [],
   "source": [
    "df_tomato_temp_joined['Month'] = df_tomato_temp_joined.index.month"
   ]
  },
  {
   "cell_type": "code",
   "execution_count": 76,
   "metadata": {},
   "outputs": [
    {
     "data": {
      "text/html": [
       "<div>\n",
       "<style scoped>\n",
       "    .dataframe tbody tr th:only-of-type {\n",
       "        vertical-align: middle;\n",
       "    }\n",
       "\n",
       "    .dataframe tbody tr th {\n",
       "        vertical-align: top;\n",
       "    }\n",
       "\n",
       "    .dataframe thead th {\n",
       "        text-align: right;\n",
       "    }\n",
       "</style>\n",
       "<table border=\"1\" class=\"dataframe\">\n",
       "  <thead>\n",
       "    <tr style=\"text-align: right;\">\n",
       "      <th></th>\n",
       "      <th>AverageTemp</th>\n",
       "      <th>MinTemp</th>\n",
       "      <th>MaxTemp</th>\n",
       "      <th>RainfallMM</th>\n",
       "      <th>RainfallDays</th>\n",
       "      <th>PriceInflAdjusted</th>\n",
       "      <th>AverageTemp-2</th>\n",
       "      <th>MinTemp-2</th>\n",
       "      <th>MaxTemp-2</th>\n",
       "      <th>RainfallMM-2</th>\n",
       "      <th>RainfallDays-2</th>\n",
       "      <th>PriceInflAdjusted-2</th>\n",
       "      <th>AverageTemp-3</th>\n",
       "      <th>MinTemp-3</th>\n",
       "      <th>MaxTemp-3</th>\n",
       "      <th>RainfallMM-3</th>\n",
       "      <th>RainfallDays-3</th>\n",
       "      <th>PriceInflAdjusted-3</th>\n",
       "      <th>Month</th>\n",
       "    </tr>\n",
       "    <tr>\n",
       "      <th>Month</th>\n",
       "      <th></th>\n",
       "      <th></th>\n",
       "      <th></th>\n",
       "      <th></th>\n",
       "      <th></th>\n",
       "      <th></th>\n",
       "      <th></th>\n",
       "      <th></th>\n",
       "      <th></th>\n",
       "      <th></th>\n",
       "      <th></th>\n",
       "      <th></th>\n",
       "      <th></th>\n",
       "      <th></th>\n",
       "      <th></th>\n",
       "      <th></th>\n",
       "      <th></th>\n",
       "      <th></th>\n",
       "      <th></th>\n",
       "    </tr>\n",
       "  </thead>\n",
       "  <tbody>\n",
       "    <tr>\n",
       "      <th>2009-01-01</th>\n",
       "      <td>23</td>\n",
       "      <td>16</td>\n",
       "      <td>28</td>\n",
       "      <td>7.69</td>\n",
       "      <td>4</td>\n",
       "      <td>23.772523</td>\n",
       "      <td>28.0</td>\n",
       "      <td>21.0</td>\n",
       "      <td>33.0</td>\n",
       "      <td>71.41</td>\n",
       "      <td>12.0</td>\n",
       "      <td>23.772523</td>\n",
       "      <td>30.0</td>\n",
       "      <td>23.0</td>\n",
       "      <td>36.0</td>\n",
       "      <td>38.01</td>\n",
       "      <td>13.0</td>\n",
       "      <td>23.455556</td>\n",
       "      <td>1</td>\n",
       "    </tr>\n",
       "    <tr>\n",
       "      <th>2009-02-01</th>\n",
       "      <td>27</td>\n",
       "      <td>19</td>\n",
       "      <td>32</td>\n",
       "      <td>0.00</td>\n",
       "      <td>0</td>\n",
       "      <td>23.772523</td>\n",
       "      <td>30.0</td>\n",
       "      <td>23.0</td>\n",
       "      <td>36.0</td>\n",
       "      <td>38.01</td>\n",
       "      <td>13.0</td>\n",
       "      <td>23.455556</td>\n",
       "      <td>28.0</td>\n",
       "      <td>23.0</td>\n",
       "      <td>33.0</td>\n",
       "      <td>151.70</td>\n",
       "      <td>26.0</td>\n",
       "      <td>19.106181</td>\n",
       "      <td>2</td>\n",
       "    </tr>\n",
       "    <tr>\n",
       "      <th>2009-03-01</th>\n",
       "      <td>28</td>\n",
       "      <td>21</td>\n",
       "      <td>33</td>\n",
       "      <td>71.41</td>\n",
       "      <td>12</td>\n",
       "      <td>23.772523</td>\n",
       "      <td>28.0</td>\n",
       "      <td>23.0</td>\n",
       "      <td>33.0</td>\n",
       "      <td>151.70</td>\n",
       "      <td>26.0</td>\n",
       "      <td>19.106181</td>\n",
       "      <td>25.0</td>\n",
       "      <td>20.0</td>\n",
       "      <td>29.0</td>\n",
       "      <td>282.71</td>\n",
       "      <td>29.0</td>\n",
       "      <td>14.636727</td>\n",
       "      <td>3</td>\n",
       "    </tr>\n",
       "    <tr>\n",
       "      <th>2009-04-01</th>\n",
       "      <td>30</td>\n",
       "      <td>23</td>\n",
       "      <td>36</td>\n",
       "      <td>38.01</td>\n",
       "      <td>13</td>\n",
       "      <td>23.455556</td>\n",
       "      <td>25.0</td>\n",
       "      <td>20.0</td>\n",
       "      <td>29.0</td>\n",
       "      <td>282.71</td>\n",
       "      <td>29.0</td>\n",
       "      <td>14.636727</td>\n",
       "      <td>24.0</td>\n",
       "      <td>21.0</td>\n",
       "      <td>27.0</td>\n",
       "      <td>75.91</td>\n",
       "      <td>26.0</td>\n",
       "      <td>15.392708</td>\n",
       "      <td>4</td>\n",
       "    </tr>\n",
       "    <tr>\n",
       "      <th>2009-05-01</th>\n",
       "      <td>28</td>\n",
       "      <td>23</td>\n",
       "      <td>33</td>\n",
       "      <td>151.70</td>\n",
       "      <td>26</td>\n",
       "      <td>19.106181</td>\n",
       "      <td>24.0</td>\n",
       "      <td>21.0</td>\n",
       "      <td>27.0</td>\n",
       "      <td>75.91</td>\n",
       "      <td>26.0</td>\n",
       "      <td>15.392708</td>\n",
       "      <td>24.0</td>\n",
       "      <td>20.0</td>\n",
       "      <td>28.0</td>\n",
       "      <td>271.67</td>\n",
       "      <td>27.0</td>\n",
       "      <td>14.768313</td>\n",
       "      <td>5</td>\n",
       "    </tr>\n",
       "  </tbody>\n",
       "</table>\n",
       "</div>"
      ],
      "text/plain": [
       "            AverageTemp  MinTemp  MaxTemp  RainfallMM  RainfallDays  \\\n",
       "Month                                                                 \n",
       "2009-01-01           23       16       28        7.69             4   \n",
       "2009-02-01           27       19       32        0.00             0   \n",
       "2009-03-01           28       21       33       71.41            12   \n",
       "2009-04-01           30       23       36       38.01            13   \n",
       "2009-05-01           28       23       33      151.70            26   \n",
       "\n",
       "            PriceInflAdjusted  AverageTemp-2  MinTemp-2  MaxTemp-2  \\\n",
       "Month                                                                \n",
       "2009-01-01          23.772523           28.0       21.0       33.0   \n",
       "2009-02-01          23.772523           30.0       23.0       36.0   \n",
       "2009-03-01          23.772523           28.0       23.0       33.0   \n",
       "2009-04-01          23.455556           25.0       20.0       29.0   \n",
       "2009-05-01          19.106181           24.0       21.0       27.0   \n",
       "\n",
       "            RainfallMM-2  RainfallDays-2  PriceInflAdjusted-2  AverageTemp-3  \\\n",
       "Month                                                                          \n",
       "2009-01-01         71.41            12.0            23.772523           30.0   \n",
       "2009-02-01         38.01            13.0            23.455556           28.0   \n",
       "2009-03-01        151.70            26.0            19.106181           25.0   \n",
       "2009-04-01        282.71            29.0            14.636727           24.0   \n",
       "2009-05-01         75.91            26.0            15.392708           24.0   \n",
       "\n",
       "            MinTemp-3  MaxTemp-3  RainfallMM-3  RainfallDays-3  \\\n",
       "Month                                                            \n",
       "2009-01-01       23.0       36.0         38.01            13.0   \n",
       "2009-02-01       23.0       33.0        151.70            26.0   \n",
       "2009-03-01       20.0       29.0        282.71            29.0   \n",
       "2009-04-01       21.0       27.0         75.91            26.0   \n",
       "2009-05-01       20.0       28.0        271.67            27.0   \n",
       "\n",
       "            PriceInflAdjusted-3  Month  \n",
       "Month                                   \n",
       "2009-01-01            23.455556      1  \n",
       "2009-02-01            19.106181      2  \n",
       "2009-03-01            14.636727      3  \n",
       "2009-04-01            15.392708      4  \n",
       "2009-05-01            14.768313      5  "
      ]
     },
     "execution_count": 76,
     "metadata": {},
     "output_type": "execute_result"
    }
   ],
   "source": [
    "df_tomato_temp_joined.head()"
   ]
  },
  {
   "cell_type": "code",
   "execution_count": 77,
   "metadata": {},
   "outputs": [
    {
     "data": {
      "text/plain": [
       "<matplotlib.axes._subplots.AxesSubplot at 0xb021b00>"
      ]
     },
     "execution_count": 77,
     "metadata": {},
     "output_type": "execute_result"
    },
    {
     "data": {
      "image/png": "[encoded data removed]",
      "text/plain": [
       "<Figure size 432x288 with 1 Axes>"
      ]
     },
     "metadata": {},
     "output_type": "display_data"
    }
   ],
   "source": [
    "df_tomato_temp_joined.PriceInflAdjusted.hist()"
   ]
  },
  {
   "cell_type": "code",
   "execution_count": 18,
   "metadata": {
    "collapsed": true
   },
   "outputs": [],
   "source": [
    "#I dont want to predict based on current month temperature or rainfall as this will be useless"
   ]
  },
  {
   "cell_type": "code",
   "execution_count": 78,
   "metadata": {},
   "outputs": [],
   "source": [
    "df_tomato_temp_joined.drop(['AverageTemp', 'MinTemp', 'MaxTemp', 'RainfallMM', 'RainfallDays'], axis=1, inplace=True)"
   ]
  },
  {
   "cell_type": "code",
   "execution_count": 20,
   "metadata": {},
   "outputs": [
    {
     "data": {
      "text/plain": [
       "Index(['PriceInflAdjusted', 'AverageTemp-2', 'MinTemp-2', 'MaxTemp-2',\n",
       "       'RainfallMM-2', 'RainfallDays-2', 'PriceInflAdjusted-2',\n",
       "       'AverageTemp-3', 'MinTemp-3', 'MaxTemp-3', 'RainfallMM-3',\n",
       "       'RainfallDays-3', 'PriceInflAdjusted-3', 'Month'],\n",
       "      dtype='object')"
      ]
     },
     "execution_count": 20,
     "metadata": {},
     "output_type": "execute_result"
    }
   ],
   "source": [
    "df_tomato_temp_joined.columns"
   ]
  },
  {
   "cell_type": "code",
   "execution_count": 79,
   "metadata": {},
   "outputs": [
    {
     "data": {
      "text/html": [
       "<div>\n",
       "<style scoped>\n",
       "    .dataframe tbody tr th:only-of-type {\n",
       "        vertical-align: middle;\n",
       "    }\n",
       "\n",
       "    .dataframe tbody tr th {\n",
       "        vertical-align: top;\n",
       "    }\n",
       "\n",
       "    .dataframe thead th {\n",
       "        text-align: right;\n",
       "    }\n",
       "</style>\n",
       "<table border=\"1\" class=\"dataframe\">\n",
       "  <thead>\n",
       "    <tr style=\"text-align: right;\">\n",
       "      <th></th>\n",
       "      <th>PriceInflAdjusted</th>\n",
       "      <th>AverageTemp-2</th>\n",
       "      <th>MinTemp-2</th>\n",
       "      <th>MaxTemp-2</th>\n",
       "      <th>RainfallMM-2</th>\n",
       "      <th>RainfallDays-2</th>\n",
       "      <th>PriceInflAdjusted-2</th>\n",
       "      <th>AverageTemp-3</th>\n",
       "      <th>MinTemp-3</th>\n",
       "      <th>MaxTemp-3</th>\n",
       "      <th>RainfallMM-3</th>\n",
       "      <th>RainfallDays-3</th>\n",
       "      <th>PriceInflAdjusted-3</th>\n",
       "      <th>Month</th>\n",
       "    </tr>\n",
       "    <tr>\n",
       "      <th>Month</th>\n",
       "      <th></th>\n",
       "      <th></th>\n",
       "      <th></th>\n",
       "      <th></th>\n",
       "      <th></th>\n",
       "      <th></th>\n",
       "      <th></th>\n",
       "      <th></th>\n",
       "      <th></th>\n",
       "      <th></th>\n",
       "      <th></th>\n",
       "      <th></th>\n",
       "      <th></th>\n",
       "      <th></th>\n",
       "    </tr>\n",
       "  </thead>\n",
       "  <tbody>\n",
       "    <tr>\n",
       "      <th>2009-01-01</th>\n",
       "      <td>23.772523</td>\n",
       "      <td>28.0</td>\n",
       "      <td>21.0</td>\n",
       "      <td>33.0</td>\n",
       "      <td>71.41</td>\n",
       "      <td>12.0</td>\n",
       "      <td>23.772523</td>\n",
       "      <td>30.0</td>\n",
       "      <td>23.0</td>\n",
       "      <td>36.0</td>\n",
       "      <td>38.01</td>\n",
       "      <td>13.0</td>\n",
       "      <td>23.455556</td>\n",
       "      <td>1</td>\n",
       "    </tr>\n",
       "    <tr>\n",
       "      <th>2009-02-01</th>\n",
       "      <td>23.772523</td>\n",
       "      <td>30.0</td>\n",
       "      <td>23.0</td>\n",
       "      <td>36.0</td>\n",
       "      <td>38.01</td>\n",
       "      <td>13.0</td>\n",
       "      <td>23.455556</td>\n",
       "      <td>28.0</td>\n",
       "      <td>23.0</td>\n",
       "      <td>33.0</td>\n",
       "      <td>151.70</td>\n",
       "      <td>26.0</td>\n",
       "      <td>19.106181</td>\n",
       "      <td>2</td>\n",
       "    </tr>\n",
       "    <tr>\n",
       "      <th>2009-03-01</th>\n",
       "      <td>23.772523</td>\n",
       "      <td>28.0</td>\n",
       "      <td>23.0</td>\n",
       "      <td>33.0</td>\n",
       "      <td>151.70</td>\n",
       "      <td>26.0</td>\n",
       "      <td>19.106181</td>\n",
       "      <td>25.0</td>\n",
       "      <td>20.0</td>\n",
       "      <td>29.0</td>\n",
       "      <td>282.71</td>\n",
       "      <td>29.0</td>\n",
       "      <td>14.636727</td>\n",
       "      <td>3</td>\n",
       "    </tr>\n",
       "    <tr>\n",
       "      <th>2009-04-01</th>\n",
       "      <td>23.455556</td>\n",
       "      <td>25.0</td>\n",
       "      <td>20.0</td>\n",
       "      <td>29.0</td>\n",
       "      <td>282.71</td>\n",
       "      <td>29.0</td>\n",
       "      <td>14.636727</td>\n",
       "      <td>24.0</td>\n",
       "      <td>21.0</td>\n",
       "      <td>27.0</td>\n",
       "      <td>75.91</td>\n",
       "      <td>26.0</td>\n",
       "      <td>15.392708</td>\n",
       "      <td>4</td>\n",
       "    </tr>\n",
       "    <tr>\n",
       "      <th>2009-05-01</th>\n",
       "      <td>19.106181</td>\n",
       "      <td>24.0</td>\n",
       "      <td>21.0</td>\n",
       "      <td>27.0</td>\n",
       "      <td>75.91</td>\n",
       "      <td>26.0</td>\n",
       "      <td>15.392708</td>\n",
       "      <td>24.0</td>\n",
       "      <td>20.0</td>\n",
       "      <td>28.0</td>\n",
       "      <td>271.67</td>\n",
       "      <td>27.0</td>\n",
       "      <td>14.768313</td>\n",
       "      <td>5</td>\n",
       "    </tr>\n",
       "  </tbody>\n",
       "</table>\n",
       "</div>"
      ],
      "text/plain": [
       "            PriceInflAdjusted  AverageTemp-2  MinTemp-2  MaxTemp-2  \\\n",
       "Month                                                                \n",
       "2009-01-01          23.772523           28.0       21.0       33.0   \n",
       "2009-02-01          23.772523           30.0       23.0       36.0   \n",
       "2009-03-01          23.772523           28.0       23.0       33.0   \n",
       "2009-04-01          23.455556           25.0       20.0       29.0   \n",
       "2009-05-01          19.106181           24.0       21.0       27.0   \n",
       "\n",
       "            RainfallMM-2  RainfallDays-2  PriceInflAdjusted-2  AverageTemp-3  \\\n",
       "Month                                                                          \n",
       "2009-01-01         71.41            12.0            23.772523           30.0   \n",
       "2009-02-01         38.01            13.0            23.455556           28.0   \n",
       "2009-03-01        151.70            26.0            19.106181           25.0   \n",
       "2009-04-01        282.71            29.0            14.636727           24.0   \n",
       "2009-05-01         75.91            26.0            15.392708           24.0   \n",
       "\n",
       "            MinTemp-3  MaxTemp-3  RainfallMM-3  RainfallDays-3  \\\n",
       "Month                                                            \n",
       "2009-01-01       23.0       36.0         38.01            13.0   \n",
       "2009-02-01       23.0       33.0        151.70            26.0   \n",
       "2009-03-01       20.0       29.0        282.71            29.0   \n",
       "2009-04-01       21.0       27.0         75.91            26.0   \n",
       "2009-05-01       20.0       28.0        271.67            27.0   \n",
       "\n",
       "            PriceInflAdjusted-3  Month  \n",
       "Month                                   \n",
       "2009-01-01            23.455556      1  \n",
       "2009-02-01            19.106181      2  \n",
       "2009-03-01            14.636727      3  \n",
       "2009-04-01            15.392708      4  \n",
       "2009-05-01            14.768313      5  "
      ]
     },
     "execution_count": 79,
     "metadata": {},
     "output_type": "execute_result"
    }
   ],
   "source": [
    "df_tomato_temp_joined.head()"
   ]
  },
  {
   "cell_type": "code",
   "execution_count": 80,
   "metadata": {
    "collapsed": true
   },
   "outputs": [],
   "source": [
    "df_tomato_temp_joined['PriceRange'] = pd.cut(df_tomato_temp_joined['PriceInflAdjusted'], [0, 10, 20,100], labels=['Low', 'Medium', 'High'], )"
   ]
  },
  {
   "cell_type": "code",
   "execution_count": 81,
   "metadata": {},
   "outputs": [
    {
     "data": {
      "text/plain": [
       "Low       43\n",
       "Medium    40\n",
       "High      27\n",
       "Name: PriceRange, dtype: int64"
      ]
     },
     "execution_count": 81,
     "metadata": {},
     "output_type": "execute_result"
    }
   ],
   "source": [
    "df_tomato_temp_joined['PriceRange'].value_counts()"
   ]
  },
  {
   "cell_type": "code",
   "execution_count": 82,
   "metadata": {
    "collapsed": true
   },
   "outputs": [],
   "source": [
    "df_tomato_temp_joined.dropna(inplace=True)"
   ]
  },
  {
   "cell_type": "code",
   "execution_count": 83,
   "metadata": {},
   "outputs": [],
   "source": [
    "#tried to do dummy coding for month names, it is not required\n",
    "#df_tomato_temp_joined = df_tomato_temp_joined.join(pd.get_dummies(df_tomato_temp_joined.Month), how='inner')\n",
    "#df_tomato_temp_joined.drop('Month', axis=1, inplace=True)"
   ]
  },
  {
   "cell_type": "code",
   "execution_count": 87,
   "metadata": {},
   "outputs": [
    {
     "data": {
      "text/plain": [
       "Index(['PriceInflAdjusted', 'AverageTemp-2', 'MinTemp-2', 'MaxTemp-2',\n",
       "       'RainfallMM-2', 'RainfallDays-2', 'PriceInflAdjusted-2',\n",
       "       'AverageTemp-3', 'MinTemp-3', 'MaxTemp-3', 'RainfallMM-3',\n",
       "       'RainfallDays-3', 'PriceInflAdjusted-3', 'PriceRange', 'Month'],\n",
       "      dtype='object')"
      ]
     },
     "execution_count": 87,
     "metadata": {},
     "output_type": "execute_result"
    }
   ],
   "source": [
    "df_tomato_temp_joined.columns"
   ]
  },
  {
   "cell_type": "code",
   "execution_count": 117,
   "metadata": {},
   "outputs": [],
   "source": [
    "feature_names = ['AverageTemp-2', 'MinTemp-2', 'MaxTemp-2',\n",
    "       'RainfallMM-2', 'RainfallDays-2', 'PriceInflAdjusted-2',\n",
    "       'AverageTemp-3', 'MinTemp-3', 'MaxTemp-3', 'RainfallMM-3',\n",
    "       'RainfallDays-3', 'PriceInflAdjusted-3', 'Month']\n",
    "X = df_tomato_temp_joined[feature_names]\n",
    "y = df_tomato_temp_joined['PriceRange']"
   ]
  },
  {
   "cell_type": "code",
   "execution_count": 94,
   "metadata": {
    "collapsed": true
   },
   "outputs": [],
   "source": [
    "from sklearn.model_selection import train_test_split"
   ]
  },
  {
   "cell_type": "code",
   "execution_count": 95,
   "metadata": {
    "collapsed": true
   },
   "outputs": [],
   "source": [
    "X_train, X_test, y_train, y_test = train_test_split(X, y, test_size=0.3, random_state=0)"
   ]
  },
  {
   "cell_type": "code",
   "execution_count": 139,
   "metadata": {},
   "outputs": [
    {
     "name": "stdout",
     "output_type": "stream",
     "text": [
      "Training accuracy: 1.0\n",
      "Testig accuracy: 0.363636363636\n"
     ]
    }
   ],
   "source": [
    "# Fit regression model\n",
    "tree1 = DecisionTreeClassifier(max_depth=4, min_samples_leaf=10)\n",
    "tree1.fit(X_train, y_train)\n",
    "print('Training accuracy:',tree1.score(X_train, y_train))\n",
    "print('Testig accuracy:', tree1.score(X_test, y_test))"
   ]
  },
  {
   "cell_type": "code",
   "execution_count": 136,
   "metadata": {},
   "outputs": [
    {
     "data": {
      "text/plain": [
       "0.63513513513513509"
      ]
     },
     "execution_count": 136,
     "metadata": {},
     "output_type": "execute_result"
    }
   ],
   "source": []
  },
  {
   "cell_type": "code",
   "execution_count": 134,
   "metadata": {},
   "outputs": [
    {
     "data": {
      "text/plain": [
       "0.30303030303030304"
      ]
     },
     "execution_count": 134,
     "metadata": {},
     "output_type": "execute_result"
    }
   ],
   "source": []
  },
  {
   "cell_type": "code",
   "execution_count": 114,
   "metadata": {},
   "outputs": [
    {
     "data": {
      "text/plain": [
       "array(['Low', 'High', 'Medium', 'Medium', 'Medium', 'Medium', 'Low',\n",
       "       'High', 'Low', 'Medium', 'Low', 'Low', 'High', 'Low', 'Medium',\n",
       "       'Low', 'Low', 'Low', 'Low', 'Low', 'High', 'High', 'Medium', 'Low',\n",
       "       'High', 'Low', 'Medium', 'Low', 'Medium', 'Medium', 'Medium',\n",
       "       'Medium', 'Low'], dtype=object)"
      ]
     },
     "execution_count": 114,
     "metadata": {},
     "output_type": "execute_result"
    }
   ],
   "source": [
    "y_hat"
   ]
  },
  {
   "cell_type": "code",
   "execution_count": 115,
   "metadata": {},
   "outputs": [
    {
     "name": "stdout",
     "output_type": "stream",
     "text": [
      "[High, Medium, Low, High, High, ..., Medium, Medium, Medium, Low, High]\n",
      "Length: 33\n",
      "Categories (3, object): [Low < Medium < High]\n"
     ]
    }
   ],
   "source": [
    "print(y_test.values)"
   ]
  },
  {
   "cell_type": "code",
   "execution_count": 102,
   "metadata": {},
   "outputs": [
    {
     "data": {
      "image/svg+xml": [
       "<?xml version=\"1.0\" encoding=\"UTF-8\" standalone=\"no\"?>\r\n",
       "<!DOCTYPE svg PUBLIC \"-//W3C//DTD SVG 1.1//EN\"\r\n",
       " \"http://www.w3.org/Graphics/SVG/1.1/DTD/svg11.dtd\">\r\n",
       "<!-- Generated by graphviz version 2.38.0 (20140413.2041)\r\n",
       " -->\r\n",
       "<!-- Title: Tree Pages: 1 -->\r\n",
       "<svg width=\"885pt\" height=\"671pt\"\r\n",
       " viewBox=\"0.00 0.00 885.00 671.00\" xmlns=\"http://www.w3.org/2000/svg\" xmlns:xlink=\"http://www.w3.org/1999/xlink\">\r\n",
       "<g id=\"graph0\" class=\"graph\" transform=\"scale(1 1) rotate(0) translate(4 667)\">\r\n",
       "<title>Tree</title>\r\n",
       "<polygon fill=\"white\" stroke=\"none\" points=\"-4,4 -4,-667 881,-667 881,4 -4,4\"/>\r\n",
       "<!-- 0 -->\r\n",
       "<g id=\"node1\" class=\"node\"><title>0</title>\r\n",
       "<path fill=\"#39e581\" fill-opacity=\"0.086275\" stroke=\"black\" d=\"M338.5,-663C338.5,-663 212.5,-663 212.5,-663 206.5,-663 200.5,-657 200.5,-651 200.5,-651 200.5,-592 200.5,-592 200.5,-586 206.5,-580 212.5,-580 212.5,-580 338.5,-580 338.5,-580 344.5,-580 350.5,-586 350.5,-592 350.5,-592 350.5,-651 350.5,-651 350.5,-657 344.5,-663 338.5,-663\"/>\r\n",
       "<text text-anchor=\"start\" x=\"208.5\" y=\"-647.8\" font-family=\"Helvetica,sans-Serif\" font-size=\"14.00\">RainfallMM&#45;3 ≤ 6.045</text>\r\n",
       "<text text-anchor=\"start\" x=\"238\" y=\"-632.8\" font-family=\"Helvetica,sans-Serif\" font-size=\"14.00\">gini = 0.645</text>\r\n",
       "<text text-anchor=\"start\" x=\"232\" y=\"-617.8\" font-family=\"Helvetica,sans-Serif\" font-size=\"14.00\">samples = 74</text>\r\n",
       "<text text-anchor=\"start\" x=\"215\" y=\"-602.8\" font-family=\"Helvetica,sans-Serif\" font-size=\"14.00\">value = [16, 31, 27]</text>\r\n",
       "<text text-anchor=\"start\" x=\"237.5\" y=\"-587.8\" font-family=\"Helvetica,sans-Serif\" font-size=\"14.00\">class = Low</text>\r\n",
       "</g>\r\n",
       "<!-- 1 -->\r\n",
       "<g id=\"node2\" class=\"node\"><title>1</title>\r\n",
       "<path fill=\"none\" stroke=\"black\" d=\"M252.5,-544C252.5,-544 94.5,-544 94.5,-544 88.5,-544 82.5,-538 82.5,-532 82.5,-532 82.5,-473 82.5,-473 82.5,-467 88.5,-461 94.5,-461 94.5,-461 252.5,-461 252.5,-461 258.5,-461 264.5,-467 264.5,-473 264.5,-473 264.5,-532 264.5,-532 264.5,-538 258.5,-544 252.5,-544\"/>\r\n",
       "<text text-anchor=\"start\" x=\"90.5\" y=\"-528.8\" font-family=\"Helvetica,sans-Serif\" font-size=\"14.00\">PriceInflAdjusted&#45;3 ≤ 9.54</text>\r\n",
       "<text text-anchor=\"start\" x=\"136\" y=\"-513.8\" font-family=\"Helvetica,sans-Serif\" font-size=\"14.00\">gini = 0.579</text>\r\n",
       "<text text-anchor=\"start\" x=\"130\" y=\"-498.8\" font-family=\"Helvetica,sans-Serif\" font-size=\"14.00\">samples = 11</text>\r\n",
       "<text text-anchor=\"start\" x=\"125\" y=\"-483.8\" font-family=\"Helvetica,sans-Serif\" font-size=\"14.00\">value = [5, 1, 5]</text>\r\n",
       "<text text-anchor=\"start\" x=\"134.5\" y=\"-468.8\" font-family=\"Helvetica,sans-Serif\" font-size=\"14.00\">class = High</text>\r\n",
       "</g>\r\n",
       "<!-- 0&#45;&gt;1 -->\r\n",
       "<g id=\"edge1\" class=\"edge\"><title>0&#45;&gt;1</title>\r\n",
       "<path fill=\"none\" stroke=\"black\" d=\"M240.112,-579.907C232.2,-570.832 223.734,-561.121 215.581,-551.769\"/>\r\n",
       "<polygon fill=\"black\" stroke=\"black\" points=\"218.035,-549.259 208.826,-544.021 212.759,-553.859 218.035,-549.259\"/>\r\n",
       "<text text-anchor=\"middle\" x=\"207.118\" y=\"-565.262\" font-family=\"Helvetica,sans-Serif\" font-size=\"14.00\">True</text>\r\n",
       "</g>\r\n",
       "<!-- 4 -->\r\n",
       "<g id=\"node5\" class=\"node\"><title>4</title>\r\n",
       "<path fill=\"#39e581\" fill-opacity=\"0.196078\" stroke=\"black\" d=\"M460.5,-544C460.5,-544 294.5,-544 294.5,-544 288.5,-544 282.5,-538 282.5,-532 282.5,-532 282.5,-473 282.5,-473 282.5,-467 288.5,-461 294.5,-461 294.5,-461 460.5,-461 460.5,-461 466.5,-461 472.5,-467 472.5,-473 472.5,-473 472.5,-532 472.5,-532 472.5,-538 466.5,-544 460.5,-544\"/>\r\n",
       "<text text-anchor=\"start\" x=\"290.5\" y=\"-528.8\" font-family=\"Helvetica,sans-Serif\" font-size=\"14.00\">PriceInflAdjusted&#45;3 ≤ 8.934</text>\r\n",
       "<text text-anchor=\"start\" x=\"340\" y=\"-513.8\" font-family=\"Helvetica,sans-Serif\" font-size=\"14.00\">gini = 0.621</text>\r\n",
       "<text text-anchor=\"start\" x=\"334\" y=\"-498.8\" font-family=\"Helvetica,sans-Serif\" font-size=\"14.00\">samples = 63</text>\r\n",
       "<text text-anchor=\"start\" x=\"317\" y=\"-483.8\" font-family=\"Helvetica,sans-Serif\" font-size=\"14.00\">value = [11, 30, 22]</text>\r\n",
       "<text text-anchor=\"start\" x=\"339.5\" y=\"-468.8\" font-family=\"Helvetica,sans-Serif\" font-size=\"14.00\">class = Low</text>\r\n",
       "</g>\r\n",
       "<!-- 0&#45;&gt;4 -->\r\n",
       "<g id=\"edge4\" class=\"edge\"><title>0&#45;&gt;4</title>\r\n",
       "<path fill=\"none\" stroke=\"black\" d=\"M310.888,-579.907C318.8,-570.832 327.266,-561.121 335.419,-551.769\"/>\r\n",
       "<polygon fill=\"black\" stroke=\"black\" points=\"338.241,-553.859 342.174,-544.021 332.965,-549.259 338.241,-553.859\"/>\r\n",
       "<text text-anchor=\"middle\" x=\"343.882\" y=\"-565.262\" font-family=\"Helvetica,sans-Serif\" font-size=\"14.00\">False</text>\r\n",
       "</g>\r\n",
       "<!-- 2 -->\r\n",
       "<g id=\"node3\" class=\"node\"><title>2</title>\r\n",
       "<path fill=\"#e58139\" fill-opacity=\"0.749020\" stroke=\"black\" d=\"M101,-417.5C101,-417.5 12,-417.5 12,-417.5 6,-417.5 0,-411.5 0,-405.5 0,-405.5 0,-361.5 0,-361.5 0,-355.5 6,-349.5 12,-349.5 12,-349.5 101,-349.5 101,-349.5 107,-349.5 113,-355.5 113,-361.5 113,-361.5 113,-405.5 113,-405.5 113,-411.5 107,-417.5 101,-417.5\"/>\r\n",
       "<text text-anchor=\"start\" x=\"23\" y=\"-402.3\" font-family=\"Helvetica,sans-Serif\" font-size=\"14.00\">gini = 0.32</text>\r\n",
       "<text text-anchor=\"start\" x=\"17\" y=\"-387.3\" font-family=\"Helvetica,sans-Serif\" font-size=\"14.00\">samples = 5</text>\r\n",
       "<text text-anchor=\"start\" x=\"8\" y=\"-372.3\" font-family=\"Helvetica,sans-Serif\" font-size=\"14.00\">value = [4, 0, 1]</text>\r\n",
       "<text text-anchor=\"start\" x=\"17.5\" y=\"-357.3\" font-family=\"Helvetica,sans-Serif\" font-size=\"14.00\">class = High</text>\r\n",
       "</g>\r\n",
       "<!-- 1&#45;&gt;2 -->\r\n",
       "<g id=\"edge2\" class=\"edge\"><title>1&#45;&gt;2</title>\r\n",
       "<path fill=\"none\" stroke=\"black\" d=\"M132.907,-460.907C121.211,-449.211 108.457,-436.457 96.7797,-424.78\"/>\r\n",
       "<polygon fill=\"black\" stroke=\"black\" points=\"99.2129,-422.263 89.6669,-417.667 94.2632,-427.213 99.2129,-422.263\"/>\r\n",
       "</g>\r\n",
       "<!-- 3 -->\r\n",
       "<g id=\"node4\" class=\"node\"><title>3</title>\r\n",
       "<path fill=\"#8139e5\" fill-opacity=\"0.600000\" stroke=\"black\" d=\"M235.5,-417.5C235.5,-417.5 143.5,-417.5 143.5,-417.5 137.5,-417.5 131.5,-411.5 131.5,-405.5 131.5,-405.5 131.5,-361.5 131.5,-361.5 131.5,-355.5 137.5,-349.5 143.5,-349.5 143.5,-349.5 235.5,-349.5 235.5,-349.5 241.5,-349.5 247.5,-355.5 247.5,-361.5 247.5,-361.5 247.5,-405.5 247.5,-405.5 247.5,-411.5 241.5,-417.5 235.5,-417.5\"/>\r\n",
       "<text text-anchor=\"start\" x=\"160.5\" y=\"-402.3\" font-family=\"Helvetica,sans-Serif\" font-size=\"14.00\">gini = 0.5</text>\r\n",
       "<text text-anchor=\"start\" x=\"150\" y=\"-387.3\" font-family=\"Helvetica,sans-Serif\" font-size=\"14.00\">samples = 6</text>\r\n",
       "<text text-anchor=\"start\" x=\"141\" y=\"-372.3\" font-family=\"Helvetica,sans-Serif\" font-size=\"14.00\">value = [1, 1, 4]</text>\r\n",
       "<text text-anchor=\"start\" x=\"139.5\" y=\"-357.3\" font-family=\"Helvetica,sans-Serif\" font-size=\"14.00\">class = Medium</text>\r\n",
       "</g>\r\n",
       "<!-- 1&#45;&gt;3 -->\r\n",
       "<g id=\"edge3\" class=\"edge\"><title>1&#45;&gt;3</title>\r\n",
       "<path fill=\"none\" stroke=\"black\" d=\"M179.051,-460.907C180.515,-450.204 182.1,-438.615 183.582,-427.776\"/>\r\n",
       "<polygon fill=\"black\" stroke=\"black\" points=\"187.077,-428.049 184.964,-417.667 180.142,-427.1 187.077,-428.049\"/>\r\n",
       "</g>\r\n",
       "<!-- 5 -->\r\n",
       "<g id=\"node6\" class=\"node\"><title>5</title>\r\n",
       "<path fill=\"#8139e5\" fill-opacity=\"0.462745\" stroke=\"black\" d=\"M416.5,-425C416.5,-425 308.5,-425 308.5,-425 302.5,-425 296.5,-419 296.5,-413 296.5,-413 296.5,-354 296.5,-354 296.5,-348 302.5,-342 308.5,-342 308.5,-342 416.5,-342 416.5,-342 422.5,-342 428.5,-348 428.5,-354 428.5,-354 428.5,-413 428.5,-413 428.5,-419 422.5,-425 416.5,-425\"/>\r\n",
       "<text text-anchor=\"start\" x=\"304.5\" y=\"-409.8\" font-family=\"Helvetica,sans-Serif\" font-size=\"14.00\">MinTemp&#45;3 ≤ 19.5</text>\r\n",
       "<text text-anchor=\"start\" x=\"325\" y=\"-394.8\" font-family=\"Helvetica,sans-Serif\" font-size=\"14.00\">gini = 0.537</text>\r\n",
       "<text text-anchor=\"start\" x=\"319\" y=\"-379.8\" font-family=\"Helvetica,sans-Serif\" font-size=\"14.00\">samples = 18</text>\r\n",
       "<text text-anchor=\"start\" x=\"310\" y=\"-364.8\" font-family=\"Helvetica,sans-Serif\" font-size=\"14.00\">value = [2, 5, 11]</text>\r\n",
       "<text text-anchor=\"start\" x=\"312.5\" y=\"-349.8\" font-family=\"Helvetica,sans-Serif\" font-size=\"14.00\">class = Medium</text>\r\n",
       "</g>\r\n",
       "<!-- 4&#45;&gt;5 -->\r\n",
       "<g id=\"edge5\" class=\"edge\"><title>4&#45;&gt;5</title>\r\n",
       "<path fill=\"none\" stroke=\"black\" d=\"M372.296,-460.907C371.225,-452.558 370.086,-443.671 368.977,-435.02\"/>\r\n",
       "<polygon fill=\"black\" stroke=\"black\" points=\"372.438,-434.495 367.695,-425.021 365.495,-435.385 372.438,-434.495\"/>\r\n",
       "</g>\r\n",
       "<!-- 8 -->\r\n",
       "<g id=\"node9\" class=\"node\"><title>8</title>\r\n",
       "<path fill=\"#39e581\" fill-opacity=\"0.411765\" stroke=\"black\" d=\"M566.5,-425C566.5,-425 458.5,-425 458.5,-425 452.5,-425 446.5,-419 446.5,-413 446.5,-413 446.5,-354 446.5,-354 446.5,-348 452.5,-342 458.5,-342 458.5,-342 566.5,-342 566.5,-342 572.5,-342 578.5,-348 578.5,-354 578.5,-354 578.5,-413 578.5,-413 578.5,-419 572.5,-425 566.5,-425\"/>\r\n",
       "<text text-anchor=\"start\" x=\"454.5\" y=\"-409.8\" font-family=\"Helvetica,sans-Serif\" font-size=\"14.00\">MinTemp&#45;3 ≤ 20.5</text>\r\n",
       "<text text-anchor=\"start\" x=\"475\" y=\"-394.8\" font-family=\"Helvetica,sans-Serif\" font-size=\"14.00\">gini = 0.592</text>\r\n",
       "<text text-anchor=\"start\" x=\"469\" y=\"-379.8\" font-family=\"Helvetica,sans-Serif\" font-size=\"14.00\">samples = 45</text>\r\n",
       "<text text-anchor=\"start\" x=\"456\" y=\"-364.8\" font-family=\"Helvetica,sans-Serif\" font-size=\"14.00\">value = [9, 25, 11]</text>\r\n",
       "<text text-anchor=\"start\" x=\"474.5\" y=\"-349.8\" font-family=\"Helvetica,sans-Serif\" font-size=\"14.00\">class = Low</text>\r\n",
       "</g>\r\n",
       "<!-- 4&#45;&gt;8 -->\r\n",
       "<g id=\"edge8\" class=\"edge\"><title>4&#45;&gt;8</title>\r\n",
       "<path fill=\"none\" stroke=\"black\" d=\"M424.338,-460.907C435.228,-451.469 446.912,-441.343 458.097,-431.649\"/>\r\n",
       "<polygon fill=\"black\" stroke=\"black\" points=\"460.481,-434.215 465.745,-425.021 455.896,-428.925 460.481,-434.215\"/>\r\n",
       "</g>\r\n",
       "<!-- 6 -->\r\n",
       "<g id=\"node7\" class=\"node\"><title>6</title>\r\n",
       "<path fill=\"#39e581\" fill-opacity=\"0.333333\" stroke=\"black\" d=\"M276,-298.5C276,-298.5 187,-298.5 187,-298.5 181,-298.5 175,-292.5 175,-286.5 175,-286.5 175,-242.5 175,-242.5 175,-236.5 181,-230.5 187,-230.5 187,-230.5 276,-230.5 276,-230.5 282,-230.5 288,-236.5 288,-242.5 288,-242.5 288,-286.5 288,-286.5 288,-292.5 282,-298.5 276,-298.5\"/>\r\n",
       "<text text-anchor=\"start\" x=\"194\" y=\"-283.3\" font-family=\"Helvetica,sans-Serif\" font-size=\"14.00\">gini = 0.568</text>\r\n",
       "<text text-anchor=\"start\" x=\"192\" y=\"-268.3\" font-family=\"Helvetica,sans-Serif\" font-size=\"14.00\">samples = 9</text>\r\n",
       "<text text-anchor=\"start\" x=\"183\" y=\"-253.3\" font-family=\"Helvetica,sans-Serif\" font-size=\"14.00\">value = [1, 5, 3]</text>\r\n",
       "<text text-anchor=\"start\" x=\"193.5\" y=\"-238.3\" font-family=\"Helvetica,sans-Serif\" font-size=\"14.00\">class = Low</text>\r\n",
       "</g>\r\n",
       "<!-- 5&#45;&gt;6 -->\r\n",
       "<g id=\"edge6\" class=\"edge\"><title>5&#45;&gt;6</title>\r\n",
       "<path fill=\"none\" stroke=\"black\" d=\"M317.05,-341.907C303.83,-330.101 289.405,-317.217 276.23,-305.45\"/>\r\n",
       "<polygon fill=\"black\" stroke=\"black\" points=\"278.425,-302.718 268.636,-298.667 273.763,-307.939 278.425,-302.718\"/>\r\n",
       "</g>\r\n",
       "<!-- 7 -->\r\n",
       "<g id=\"node8\" class=\"node\"><title>7</title>\r\n",
       "<path fill=\"#8139e5\" fill-opacity=\"0.874510\" stroke=\"black\" d=\"M410.5,-298.5C410.5,-298.5 318.5,-298.5 318.5,-298.5 312.5,-298.5 306.5,-292.5 306.5,-286.5 306.5,-286.5 306.5,-242.5 306.5,-242.5 306.5,-236.5 312.5,-230.5 318.5,-230.5 318.5,-230.5 410.5,-230.5 410.5,-230.5 416.5,-230.5 422.5,-236.5 422.5,-242.5 422.5,-242.5 422.5,-286.5 422.5,-286.5 422.5,-292.5 416.5,-298.5 410.5,-298.5\"/>\r\n",
       "<text text-anchor=\"start\" x=\"327\" y=\"-283.3\" font-family=\"Helvetica,sans-Serif\" font-size=\"14.00\">gini = 0.198</text>\r\n",
       "<text text-anchor=\"start\" x=\"325\" y=\"-268.3\" font-family=\"Helvetica,sans-Serif\" font-size=\"14.00\">samples = 9</text>\r\n",
       "<text text-anchor=\"start\" x=\"316\" y=\"-253.3\" font-family=\"Helvetica,sans-Serif\" font-size=\"14.00\">value = [1, 0, 8]</text>\r\n",
       "<text text-anchor=\"start\" x=\"314.5\" y=\"-238.3\" font-family=\"Helvetica,sans-Serif\" font-size=\"14.00\">class = Medium</text>\r\n",
       "</g>\r\n",
       "<!-- 5&#45;&gt;7 -->\r\n",
       "<g id=\"edge7\" class=\"edge\"><title>5&#45;&gt;7</title>\r\n",
       "<path fill=\"none\" stroke=\"black\" d=\"M363.194,-341.907C363.377,-331.204 363.575,-319.615 363.76,-308.776\"/>\r\n",
       "<polygon fill=\"black\" stroke=\"black\" points=\"367.262,-308.725 363.933,-298.667 360.263,-308.606 367.262,-308.725\"/>\r\n",
       "</g>\r\n",
       "<!-- 9 -->\r\n",
       "<g id=\"node10\" class=\"node\"><title>9</title>\r\n",
       "<path fill=\"#39e581\" fill-opacity=\"0.149020\" stroke=\"black\" d=\"M564.5,-306C564.5,-306 456.5,-306 456.5,-306 450.5,-306 444.5,-300 444.5,-294 444.5,-294 444.5,-235 444.5,-235 444.5,-229 450.5,-223 456.5,-223 456.5,-223 564.5,-223 564.5,-223 570.5,-223 576.5,-229 576.5,-235 576.5,-235 576.5,-294 576.5,-294 576.5,-300 570.5,-306 564.5,-306\"/>\r\n",
       "<text text-anchor=\"start\" x=\"452.5\" y=\"-290.8\" font-family=\"Helvetica,sans-Serif\" font-size=\"14.00\">MinTemp&#45;3 ≤ 19.5</text>\r\n",
       "<text text-anchor=\"start\" x=\"473\" y=\"-275.8\" font-family=\"Helvetica,sans-Serif\" font-size=\"14.00\">gini = 0.647</text>\r\n",
       "<text text-anchor=\"start\" x=\"467\" y=\"-260.8\" font-family=\"Helvetica,sans-Serif\" font-size=\"14.00\">samples = 30</text>\r\n",
       "<text text-anchor=\"start\" x=\"454\" y=\"-245.8\" font-family=\"Helvetica,sans-Serif\" font-size=\"14.00\">value = [7, 13, 10]</text>\r\n",
       "<text text-anchor=\"start\" x=\"472.5\" y=\"-230.8\" font-family=\"Helvetica,sans-Serif\" font-size=\"14.00\">class = Low</text>\r\n",
       "</g>\r\n",
       "<!-- 8&#45;&gt;9 -->\r\n",
       "<g id=\"edge9\" class=\"edge\"><title>8&#45;&gt;9</title>\r\n",
       "<path fill=\"none\" stroke=\"black\" d=\"M511.806,-341.907C511.663,-333.558 511.511,-324.671 511.364,-316.02\"/>\r\n",
       "<polygon fill=\"black\" stroke=\"black\" points=\"514.863,-315.959 511.193,-306.021 507.864,-316.079 514.863,-315.959\"/>\r\n",
       "</g>\r\n",
       "<!-- 16 -->\r\n",
       "<g id=\"node17\" class=\"node\"><title>16</title>\r\n",
       "<path fill=\"#39e581\" fill-opacity=\"0.768627\" stroke=\"black\" d=\"M780.5,-306C780.5,-306 606.5,-306 606.5,-306 600.5,-306 594.5,-300 594.5,-294 594.5,-294 594.5,-235 594.5,-235 594.5,-229 600.5,-223 606.5,-223 606.5,-223 780.5,-223 780.5,-223 786.5,-223 792.5,-229 792.5,-235 792.5,-235 792.5,-294 792.5,-294 792.5,-300 786.5,-306 780.5,-306\"/>\r\n",
       "<text text-anchor=\"start\" x=\"602.5\" y=\"-290.8\" font-family=\"Helvetica,sans-Serif\" font-size=\"14.00\">PriceInflAdjusted&#45;2 ≤ 20.609</text>\r\n",
       "<text text-anchor=\"start\" x=\"656\" y=\"-275.8\" font-family=\"Helvetica,sans-Serif\" font-size=\"14.00\">gini = 0.338</text>\r\n",
       "<text text-anchor=\"start\" x=\"650\" y=\"-260.8\" font-family=\"Helvetica,sans-Serif\" font-size=\"14.00\">samples = 15</text>\r\n",
       "<text text-anchor=\"start\" x=\"641\" y=\"-245.8\" font-family=\"Helvetica,sans-Serif\" font-size=\"14.00\">value = [2, 12, 1]</text>\r\n",
       "<text text-anchor=\"start\" x=\"655.5\" y=\"-230.8\" font-family=\"Helvetica,sans-Serif\" font-size=\"14.00\">class = Low</text>\r\n",
       "</g>\r\n",
       "<!-- 8&#45;&gt;16 -->\r\n",
       "<g id=\"edge16\" class=\"edge\"><title>8&#45;&gt;16</title>\r\n",
       "<path fill=\"none\" stroke=\"black\" d=\"M575.297,-341.907C590.459,-332.106 606.77,-321.563 622.287,-311.533\"/>\r\n",
       "<polygon fill=\"black\" stroke=\"black\" points=\"624.316,-314.389 630.814,-306.021 620.516,-308.51 624.316,-314.389\"/>\r\n",
       "</g>\r\n",
       "<!-- 10 -->\r\n",
       "<g id=\"node11\" class=\"node\"><title>10</title>\r\n",
       "<path fill=\"#39e581\" fill-opacity=\"0.384314\" stroke=\"black\" d=\"M412,-187C412,-187 269,-187 269,-187 263,-187 257,-181 257,-175 257,-175 257,-116 257,-116 257,-110 263,-104 269,-104 269,-104 412,-104 412,-104 418,-104 424,-110 424,-116 424,-116 424,-175 424,-175 424,-181 418,-187 412,-187\"/>\r\n",
       "<text text-anchor=\"start\" x=\"265\" y=\"-171.8\" font-family=\"Helvetica,sans-Serif\" font-size=\"14.00\">RainfallMM&#45;2 ≤ 204.175</text>\r\n",
       "<text text-anchor=\"start\" x=\"303\" y=\"-156.8\" font-family=\"Helvetica,sans-Serif\" font-size=\"14.00\">gini = 0.554</text>\r\n",
       "<text text-anchor=\"start\" x=\"297\" y=\"-141.8\" font-family=\"Helvetica,sans-Serif\" font-size=\"14.00\">samples = 19</text>\r\n",
       "<text text-anchor=\"start\" x=\"288\" y=\"-126.8\" font-family=\"Helvetica,sans-Serif\" font-size=\"14.00\">value = [6, 11, 2]</text>\r\n",
       "<text text-anchor=\"start\" x=\"302.5\" y=\"-111.8\" font-family=\"Helvetica,sans-Serif\" font-size=\"14.00\">class = Low</text>\r\n",
       "</g>\r\n",
       "<!-- 9&#45;&gt;10 -->\r\n",
       "<g id=\"edge10\" class=\"edge\"><title>9&#45;&gt;10</title>\r\n",
       "<path fill=\"none\" stroke=\"black\" d=\"M451.519,-222.907C437.41,-213.197 422.243,-202.758 407.79,-192.811\"/>\r\n",
       "<polygon fill=\"black\" stroke=\"black\" points=\"409.598,-189.807 399.376,-187.021 405.63,-195.573 409.598,-189.807\"/>\r\n",
       "</g>\r\n",
       "<!-- 13 -->\r\n",
       "<g id=\"node14\" class=\"node\"><title>13</title>\r\n",
       "<path fill=\"#8139e5\" fill-opacity=\"0.666667\" stroke=\"black\" d=\"M580.5,-187C580.5,-187 454.5,-187 454.5,-187 448.5,-187 442.5,-181 442.5,-175 442.5,-175 442.5,-116 442.5,-116 442.5,-110 448.5,-104 454.5,-104 454.5,-104 580.5,-104 580.5,-104 586.5,-104 592.5,-110 592.5,-116 592.5,-116 592.5,-175 592.5,-175 592.5,-181 586.5,-187 580.5,-187\"/>\r\n",
       "<text text-anchor=\"start\" x=\"450.5\" y=\"-171.8\" font-family=\"Helvetica,sans-Serif\" font-size=\"14.00\">RainfallMM&#45;2 ≤ 134.4</text>\r\n",
       "<text text-anchor=\"start\" x=\"484\" y=\"-156.8\" font-family=\"Helvetica,sans-Serif\" font-size=\"14.00\">gini = 0.43</text>\r\n",
       "<text text-anchor=\"start\" x=\"474\" y=\"-141.8\" font-family=\"Helvetica,sans-Serif\" font-size=\"14.00\">samples = 11</text>\r\n",
       "<text text-anchor=\"start\" x=\"469\" y=\"-126.8\" font-family=\"Helvetica,sans-Serif\" font-size=\"14.00\">value = [1, 2, 8]</text>\r\n",
       "<text text-anchor=\"start\" x=\"467.5\" y=\"-111.8\" font-family=\"Helvetica,sans-Serif\" font-size=\"14.00\">class = Medium</text>\r\n",
       "</g>\r\n",
       "<!-- 9&#45;&gt;13 -->\r\n",
       "<g id=\"edge13\" class=\"edge\"><title>9&#45;&gt;13</title>\r\n",
       "<path fill=\"none\" stroke=\"black\" d=\"M512.929,-222.907C513.428,-214.558 513.96,-205.671 514.477,-197.02\"/>\r\n",
       "<polygon fill=\"black\" stroke=\"black\" points=\"517.972,-197.212 515.076,-187.021 510.985,-196.794 517.972,-197.212\"/>\r\n",
       "</g>\r\n",
       "<!-- 11 -->\r\n",
       "<g id=\"node12\" class=\"node\"><title>11</title>\r\n",
       "<path fill=\"#39e581\" fill-opacity=\"0.635294\" stroke=\"black\" d=\"M265,-68C265,-68 176,-68 176,-68 170,-68 164,-62 164,-56 164,-56 164,-12 164,-12 164,-6 170,-0 176,-0 176,-0 265,-0 265,-0 271,-0 277,-6 277,-12 277,-12 277,-56 277,-56 277,-62 271,-68 265,-68\"/>\r\n",
       "<text text-anchor=\"start\" x=\"183\" y=\"-52.8\" font-family=\"Helvetica,sans-Serif\" font-size=\"14.00\">gini = 0.473</text>\r\n",
       "<text text-anchor=\"start\" x=\"177\" y=\"-37.8\" font-family=\"Helvetica,sans-Serif\" font-size=\"14.00\">samples = 13</text>\r\n",
       "<text text-anchor=\"start\" x=\"172\" y=\"-22.8\" font-family=\"Helvetica,sans-Serif\" font-size=\"14.00\">value = [2, 9, 2]</text>\r\n",
       "<text text-anchor=\"start\" x=\"182.5\" y=\"-7.8\" font-family=\"Helvetica,sans-Serif\" font-size=\"14.00\">class = Low</text>\r\n",
       "</g>\r\n",
       "<!-- 10&#45;&gt;11 -->\r\n",
       "<g id=\"edge11\" class=\"edge\"><title>10&#45;&gt;11</title>\r\n",
       "<path fill=\"none\" stroke=\"black\" d=\"M295.816,-103.726C285.621,-94.423 274.793,-84.5428 264.622,-75.2612\"/>\r\n",
       "<polygon fill=\"black\" stroke=\"black\" points=\"266.739,-72.4547 256.993,-68.2996 262.02,-77.6255 266.739,-72.4547\"/>\r\n",
       "</g>\r\n",
       "<!-- 12 -->\r\n",
       "<g id=\"node13\" class=\"node\"><title>12</title>\r\n",
       "<path fill=\"#e58139\" fill-opacity=\"0.498039\" stroke=\"black\" d=\"M396,-68C396,-68 307,-68 307,-68 301,-68 295,-62 295,-56 295,-56 295,-12 295,-12 295,-6 301,-0 307,-0 307,-0 396,-0 396,-0 402,-0 408,-6 408,-12 408,-12 408,-56 408,-56 408,-62 402,-68 396,-68\"/>\r\n",
       "<text text-anchor=\"start\" x=\"314\" y=\"-52.8\" font-family=\"Helvetica,sans-Serif\" font-size=\"14.00\">gini = 0.444</text>\r\n",
       "<text text-anchor=\"start\" x=\"312\" y=\"-37.8\" font-family=\"Helvetica,sans-Serif\" font-size=\"14.00\">samples = 6</text>\r\n",
       "<text text-anchor=\"start\" x=\"303\" y=\"-22.8\" font-family=\"Helvetica,sans-Serif\" font-size=\"14.00\">value = [4, 2, 0]</text>\r\n",
       "<text text-anchor=\"start\" x=\"312.5\" y=\"-7.8\" font-family=\"Helvetica,sans-Serif\" font-size=\"14.00\">class = High</text>\r\n",
       "</g>\r\n",
       "<!-- 10&#45;&gt;12 -->\r\n",
       "<g id=\"edge12\" class=\"edge\"><title>10&#45;&gt;12</title>\r\n",
       "<path fill=\"none\" stroke=\"black\" d=\"M344.596,-103.726C345.43,-95.4263 346.31,-86.6671 347.152,-78.2834\"/>\r\n",
       "<polygon fill=\"black\" stroke=\"black\" points=\"350.638,-78.5994 348.155,-68.2996 343.673,-77.8997 350.638,-78.5994\"/>\r\n",
       "</g>\r\n",
       "<!-- 14 -->\r\n",
       "<g id=\"node15\" class=\"node\"><title>14</title>\r\n",
       "<path fill=\"#8139e5\" fill-opacity=\"0.800000\" stroke=\"black\" d=\"M552.5,-68C552.5,-68 460.5,-68 460.5,-68 454.5,-68 448.5,-62 448.5,-56 448.5,-56 448.5,-12 448.5,-12 448.5,-6 454.5,-0 460.5,-0 460.5,-0 552.5,-0 552.5,-0 558.5,-0 564.5,-6 564.5,-12 564.5,-12 564.5,-56 564.5,-56 564.5,-62 558.5,-68 552.5,-68\"/>\r\n",
       "<text text-anchor=\"start\" x=\"469\" y=\"-52.8\" font-family=\"Helvetica,sans-Serif\" font-size=\"14.00\">gini = 0.278</text>\r\n",
       "<text text-anchor=\"start\" x=\"467\" y=\"-37.8\" font-family=\"Helvetica,sans-Serif\" font-size=\"14.00\">samples = 6</text>\r\n",
       "<text text-anchor=\"start\" x=\"458\" y=\"-22.8\" font-family=\"Helvetica,sans-Serif\" font-size=\"14.00\">value = [1, 0, 5]</text>\r\n",
       "<text text-anchor=\"start\" x=\"456.5\" y=\"-7.8\" font-family=\"Helvetica,sans-Serif\" font-size=\"14.00\">class = Medium</text>\r\n",
       "</g>\r\n",
       "<!-- 13&#45;&gt;14 -->\r\n",
       "<g id=\"edge14\" class=\"edge\"><title>13&#45;&gt;14</title>\r\n",
       "<path fill=\"none\" stroke=\"black\" d=\"M513.404,-103.726C512.57,-95.4263 511.69,-86.6671 510.848,-78.2834\"/>\r\n",
       "<polygon fill=\"black\" stroke=\"black\" points=\"514.327,-77.8997 509.845,-68.2996 507.362,-78.5994 514.327,-77.8997\"/>\r\n",
       "</g>\r\n",
       "<!-- 15 -->\r\n",
       "<g id=\"node16\" class=\"node\"><title>15</title>\r\n",
       "<path fill=\"#8139e5\" fill-opacity=\"0.333333\" stroke=\"black\" d=\"M686.5,-68C686.5,-68 594.5,-68 594.5,-68 588.5,-68 582.5,-62 582.5,-56 582.5,-56 582.5,-12 582.5,-12 582.5,-6 588.5,-0 594.5,-0 594.5,-0 686.5,-0 686.5,-0 692.5,-0 698.5,-6 698.5,-12 698.5,-12 698.5,-56 698.5,-56 698.5,-62 692.5,-68 686.5,-68\"/>\r\n",
       "<text text-anchor=\"start\" x=\"607\" y=\"-52.8\" font-family=\"Helvetica,sans-Serif\" font-size=\"14.00\">gini = 0.48</text>\r\n",
       "<text text-anchor=\"start\" x=\"601\" y=\"-37.8\" font-family=\"Helvetica,sans-Serif\" font-size=\"14.00\">samples = 5</text>\r\n",
       "<text text-anchor=\"start\" x=\"592\" y=\"-22.8\" font-family=\"Helvetica,sans-Serif\" font-size=\"14.00\">value = [0, 2, 3]</text>\r\n",
       "<text text-anchor=\"start\" x=\"590.5\" y=\"-7.8\" font-family=\"Helvetica,sans-Serif\" font-size=\"14.00\">class = Medium</text>\r\n",
       "</g>\r\n",
       "<!-- 13&#45;&gt;15 -->\r\n",
       "<g id=\"edge15\" class=\"edge\"><title>13&#45;&gt;15</title>\r\n",
       "<path fill=\"none\" stroke=\"black\" d=\"M563.301,-103.726C573.853,-94.3318 585.067,-84.349 595.582,-74.9883\"/>\r\n",
       "<polygon fill=\"black\" stroke=\"black\" points=\"597.953,-77.5631 603.095,-68.2996 593.299,-72.3347 597.953,-77.5631\"/>\r\n",
       "</g>\r\n",
       "<!-- 17 -->\r\n",
       "<g id=\"node18\" class=\"node\"><title>17</title>\r\n",
       "<path fill=\"#39e581\" stroke=\"black\" d=\"M734,-179.5C734,-179.5 637,-179.5 637,-179.5 631,-179.5 625,-173.5 625,-167.5 625,-167.5 625,-123.5 625,-123.5 625,-117.5 631,-111.5 637,-111.5 637,-111.5 734,-111.5 734,-111.5 740,-111.5 746,-117.5 746,-123.5 746,-123.5 746,-167.5 746,-167.5 746,-173.5 740,-179.5 734,-179.5\"/>\r\n",
       "<text text-anchor=\"start\" x=\"656.5\" y=\"-164.3\" font-family=\"Helvetica,sans-Serif\" font-size=\"14.00\">gini = 0.0</text>\r\n",
       "<text text-anchor=\"start\" x=\"642\" y=\"-149.3\" font-family=\"Helvetica,sans-Serif\" font-size=\"14.00\">samples = 10</text>\r\n",
       "<text text-anchor=\"start\" x=\"633\" y=\"-134.3\" font-family=\"Helvetica,sans-Serif\" font-size=\"14.00\">value = [0, 10, 0]</text>\r\n",
       "<text text-anchor=\"start\" x=\"647.5\" y=\"-119.3\" font-family=\"Helvetica,sans-Serif\" font-size=\"14.00\">class = Low</text>\r\n",
       "</g>\r\n",
       "<!-- 16&#45;&gt;17 -->\r\n",
       "<g id=\"edge17\" class=\"edge\"><title>16&#45;&gt;17</title>\r\n",
       "<path fill=\"none\" stroke=\"black\" d=\"M690.724,-222.907C689.993,-212.204 689.2,-200.615 688.459,-189.776\"/>\r\n",
       "<polygon fill=\"black\" stroke=\"black\" points=\"691.942,-189.405 687.768,-179.667 684.958,-189.882 691.942,-189.405\"/>\r\n",
       "</g>\r\n",
       "<!-- 18 -->\r\n",
       "<g id=\"node19\" class=\"node\"><title>18</title>\r\n",
       "<path fill=\"none\" stroke=\"black\" d=\"M865,-179.5C865,-179.5 776,-179.5 776,-179.5 770,-179.5 764,-173.5 764,-167.5 764,-167.5 764,-123.5 764,-123.5 764,-117.5 770,-111.5 776,-111.5 776,-111.5 865,-111.5 865,-111.5 871,-111.5 877,-117.5 877,-123.5 877,-123.5 877,-167.5 877,-167.5 877,-173.5 871,-179.5 865,-179.5\"/>\r\n",
       "<text text-anchor=\"start\" x=\"787\" y=\"-164.3\" font-family=\"Helvetica,sans-Serif\" font-size=\"14.00\">gini = 0.64</text>\r\n",
       "<text text-anchor=\"start\" x=\"781\" y=\"-149.3\" font-family=\"Helvetica,sans-Serif\" font-size=\"14.00\">samples = 5</text>\r\n",
       "<text text-anchor=\"start\" x=\"772\" y=\"-134.3\" font-family=\"Helvetica,sans-Serif\" font-size=\"14.00\">value = [2, 2, 1]</text>\r\n",
       "<text text-anchor=\"start\" x=\"781.5\" y=\"-119.3\" font-family=\"Helvetica,sans-Serif\" font-size=\"14.00\">class = High</text>\r\n",
       "</g>\r\n",
       "<!-- 16&#45;&gt;18 -->\r\n",
       "<g id=\"edge18\" class=\"edge\"><title>16&#45;&gt;18</title>\r\n",
       "<path fill=\"none\" stroke=\"black\" d=\"M737.562,-222.907C750.378,-211.101 764.363,-198.217 777.136,-186.45\"/>\r\n",
       "<polygon fill=\"black\" stroke=\"black\" points=\"779.515,-189.017 784.498,-179.667 774.772,-183.868 779.515,-189.017\"/>\r\n",
       "</g>\r\n",
       "</g>\r\n",
       "</svg>\r\n"
      ],
      "text/plain": [
       "<graphviz.files.Source at 0x118b24a8>"
      ]
     },
     "execution_count": 102,
     "metadata": {},
     "output_type": "execute_result"
    }
   ],
   "source": [
    "dot_data = tree.export_graphviz(tree1, out_file=None, \n",
    "                         feature_names=feature_names,  \n",
    "                         class_names=tree1.classes_,  \n",
    "                         filled=True, rounded=True,  \n",
    "                         special_characters=True)\n",
    "graph = graphviz.Source(dot_data)  \n",
    "graph"
   ]
  },
  {
   "cell_type": "code",
   "execution_count": 104,
   "metadata": {},
   "outputs": [
    {
     "data": {
      "text/html": [
       "<div>\n",
       "<style scoped>\n",
       "    .dataframe tbody tr th:only-of-type {\n",
       "        vertical-align: middle;\n",
       "    }\n",
       "\n",
       "    .dataframe tbody tr th {\n",
       "        vertical-align: top;\n",
       "    }\n",
       "\n",
       "    .dataframe thead th {\n",
       "        text-align: right;\n",
       "    }\n",
       "</style>\n",
       "<table border=\"1\" class=\"dataframe\">\n",
       "  <thead>\n",
       "    <tr style=\"text-align: right;\">\n",
       "      <th></th>\n",
       "      <th>PriceRange</th>\n",
       "      <th>PriceInflAdjusted-3</th>\n",
       "      <th>AverageTemp-2</th>\n",
       "    </tr>\n",
       "    <tr>\n",
       "      <th>Month</th>\n",
       "      <th></th>\n",
       "      <th></th>\n",
       "      <th></th>\n",
       "    </tr>\n",
       "  </thead>\n",
       "  <tbody>\n",
       "    <tr>\n",
       "      <th>2009-11-01</th>\n",
       "      <td>Medium</td>\n",
       "      <td>8.278431</td>\n",
       "      <td>22.0</td>\n",
       "    </tr>\n",
       "    <tr>\n",
       "      <th>2010-10-01</th>\n",
       "      <td>Medium</td>\n",
       "      <td>23.243457</td>\n",
       "      <td>22.0</td>\n",
       "    </tr>\n",
       "    <tr>\n",
       "      <th>2010-12-01</th>\n",
       "      <td>Medium</td>\n",
       "      <td>7.521626</td>\n",
       "      <td>25.0</td>\n",
       "    </tr>\n",
       "    <tr>\n",
       "      <th>2011-10-01</th>\n",
       "      <td>Medium</td>\n",
       "      <td>8.396023</td>\n",
       "      <td>22.0</td>\n",
       "    </tr>\n",
       "    <tr>\n",
       "      <th>2011-11-01</th>\n",
       "      <td>Medium</td>\n",
       "      <td>13.861173</td>\n",
       "      <td>23.0</td>\n",
       "    </tr>\n",
       "    <tr>\n",
       "      <th>2012-10-01</th>\n",
       "      <td>Low</td>\n",
       "      <td>9.360995</td>\n",
       "      <td>23.0</td>\n",
       "    </tr>\n",
       "    <tr>\n",
       "      <th>2013-09-01</th>\n",
       "      <td>Medium</td>\n",
       "      <td>14.632734</td>\n",
       "      <td>25.0</td>\n",
       "    </tr>\n",
       "    <tr>\n",
       "      <th>2013-10-01</th>\n",
       "      <td>High</td>\n",
       "      <td>7.422644</td>\n",
       "      <td>23.0</td>\n",
       "    </tr>\n",
       "    <tr>\n",
       "      <th>2013-11-01</th>\n",
       "      <td>High</td>\n",
       "      <td>6.097952</td>\n",
       "      <td>24.0</td>\n",
       "    </tr>\n",
       "    <tr>\n",
       "      <th>2014-10-01</th>\n",
       "      <td>Low</td>\n",
       "      <td>9.897044</td>\n",
       "      <td>24.0</td>\n",
       "    </tr>\n",
       "    <tr>\n",
       "      <th>2014-11-01</th>\n",
       "      <td>Medium</td>\n",
       "      <td>9.734519</td>\n",
       "      <td>24.0</td>\n",
       "    </tr>\n",
       "    <tr>\n",
       "      <th>2015-11-01</th>\n",
       "      <td>High</td>\n",
       "      <td>10.462759</td>\n",
       "      <td>25.0</td>\n",
       "    </tr>\n",
       "    <tr>\n",
       "      <th>2015-12-01</th>\n",
       "      <td>High</td>\n",
       "      <td>8.027839</td>\n",
       "      <td>28.0</td>\n",
       "    </tr>\n",
       "    <tr>\n",
       "      <th>2016-11-01</th>\n",
       "      <td>Low</td>\n",
       "      <td>14.766727</td>\n",
       "      <td>25.0</td>\n",
       "    </tr>\n",
       "    <tr>\n",
       "      <th>2017-10-01</th>\n",
       "      <td>High</td>\n",
       "      <td>9.345573</td>\n",
       "      <td>23.0</td>\n",
       "    </tr>\n",
       "  </tbody>\n",
       "</table>\n",
       "</div>"
      ],
      "text/plain": [
       "           PriceRange  PriceInflAdjusted-3  AverageTemp-2\n",
       "Month                                                    \n",
       "2009-11-01     Medium             8.278431           22.0\n",
       "2010-10-01     Medium            23.243457           22.0\n",
       "2010-12-01     Medium             7.521626           25.0\n",
       "2011-10-01     Medium             8.396023           22.0\n",
       "2011-11-01     Medium            13.861173           23.0\n",
       "2012-10-01        Low             9.360995           23.0\n",
       "2013-09-01     Medium            14.632734           25.0\n",
       "2013-10-01       High             7.422644           23.0\n",
       "2013-11-01       High             6.097952           24.0\n",
       "2014-10-01        Low             9.897044           24.0\n",
       "2014-11-01     Medium             9.734519           24.0\n",
       "2015-11-01       High            10.462759           25.0\n",
       "2015-12-01       High             8.027839           28.0\n",
       "2016-11-01        Low            14.766727           25.0\n",
       "2017-10-01       High             9.345573           23.0"
      ]
     },
     "execution_count": 104,
     "metadata": {},
     "output_type": "execute_result"
    }
   ],
   "source": [
    "df_tomato_temp_joined[df_tomato_temp_joined[\"RainfallMM-3\"] <=6.045][['PriceRange','PriceInflAdjusted-3', 'AverageTemp-2']]"
   ]
  },
  {
   "cell_type": "code",
   "execution_count": 92,
   "metadata": {},
   "outputs": [
    {
     "data": {
      "text/plain": [
       "Timestamp('2017-11-01 00:00:00')"
      ]
     },
     "execution_count": 92,
     "metadata": {},
     "output_type": "execute_result"
    }
   ],
   "source": [
    "df_tomato_temp_joined.index.max()"
   ]
  },
  {
   "cell_type": "code",
   "execution_count": 93,
   "metadata": {},
   "outputs": [
    {
     "data": {
      "text/plain": [
       "Timestamp('2009-01-01 00:00:00')"
      ]
     },
     "execution_count": 93,
     "metadata": {},
     "output_type": "execute_result"
    }
   ],
   "source": [
    "df_tomato_temp_joined.index.min()"
   ]
  },
  {
   "cell_type": "code",
   "execution_count": null,
   "metadata": {
    "collapsed": true
   },
   "outputs": [],
   "source": []
  }
 ],
 "metadata": {
  "kernelspec": {
   "display_name": "Python 3",
   "language": "python",
   "name": "python3"
  },
  "language_info": {
   "codemirror_mode": {
    "name": "ipython",
    "version": 3
   },
   "file_extension": ".py",
   "mimetype": "text/x-python",
   "name": "python",
   "nbconvert_exporter": "python",
   "pygments_lexer": "ipython3",
   "version": "3.6.1"
  }
 },
 "nbformat": 4,
 "nbformat_minor": 2
}
